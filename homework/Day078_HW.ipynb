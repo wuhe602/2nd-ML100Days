{
 "cells": [
  {
   "cell_type": "markdown",
   "metadata": {},
   "source": [
    "## Work\n",
    "1. 請嘗試將 preproc_x 替換成以每筆資料的 min/max 進行標準化至 -1 ~ 1 間，再進行訓練\n",
    "2. 請嘗試將 mlp 疊更深 (e.g 5~10 層)，進行訓練後觀察 learning curve 的走勢\n",
    "3. (optional) 請改用 GPU 進行訓練 (如果你有 GPU 的話)，比較使用 CPU 與 GPU 的訓練速度"
   ]
  },
  {
   "cell_type": "code",
   "execution_count": 1,
   "metadata": {},
   "outputs": [
    {
     "name": "stderr",
     "output_type": "stream",
     "text": [
      "Using TensorFlow backend.\n"
     ]
    }
   ],
   "source": [
    "import os\n",
    "import keras\n",
    "\n",
    "# 請嘗試設定 GPU：os.environ\n",
    "os.environ[\"CUDA_VISIBLE_DEVICES\"] = \"0\""
   ]
  },
  {
   "cell_type": "code",
   "execution_count": 2,
   "metadata": {},
   "outputs": [],
   "source": [
    "train, test = keras.datasets.cifar10.load_data()"
   ]
  },
  {
   "cell_type": "code",
   "execution_count": 3,
   "metadata": {},
   "outputs": [],
   "source": [
    "## 資料前處理\n",
    "\"\"\"\n",
    "Your code here\n",
    "\"\"\"\n",
    "def preproc_x(x, flatten=True):\n",
    "    x = x / 255.\n",
    "    if flatten:\n",
    "        x = x.reshape((len(x), -1))\n",
    "    return x\n",
    "\n",
    "def preproc_y(y, num_classes=10):\n",
    "    if y.shape[-1] == 1:\n",
    "        y = keras.utils.to_categorical(y, num_classes)\n",
    "    return y"
   ]
  },
  {
   "cell_type": "code",
   "execution_count": 4,
   "metadata": {},
   "outputs": [],
   "source": [
    "x_train, y_train = train\n",
    "x_test, y_test = test\n",
    "\n",
    "# Preproc the inputs\n",
    "x_train = preproc_x(x_train)\n",
    "x_test = preproc_x(x_test)\n",
    "\n",
    "# Preprc the outputs\n",
    "y_train = preproc_y(y_train)\n",
    "y_test = preproc_y(y_test)"
   ]
  },
  {
   "cell_type": "code",
   "execution_count": 5,
   "metadata": {},
   "outputs": [
    {
     "name": "stdout",
     "output_type": "stream",
     "text": [
      "WARNING:tensorflow:From C:\\Users\\wuhe\\Anaconda3\\envs\\tensorflow-gpu\\lib\\site-packages\\tensorflow\\python\\framework\\op_def_library.py:263: colocate_with (from tensorflow.python.framework.ops) is deprecated and will be removed in a future version.\n",
      "Instructions for updating:\n",
      "Colocations handled automatically by placer.\n",
      "_________________________________________________________________\n",
      "Layer (type)                 Output Shape              Param #   \n",
      "=================================================================\n",
      "input_1 (InputLayer)         (None, 3072)              0         \n",
      "_________________________________________________________________\n",
      "hidden_layer1 (Dense)        (None, 512)               1573376   \n",
      "_________________________________________________________________\n",
      "hidden_layer2 (Dense)        (None, 256)               131328    \n",
      "_________________________________________________________________\n",
      "hidden_layer3 (Dense)        (None, 128)               32896     \n",
      "_________________________________________________________________\n",
      "hidden_layer4 (Dense)        (None, 64)                8256      \n",
      "_________________________________________________________________\n",
      "hidden_layer5 (Dense)        (None, 32)                2080      \n",
      "_________________________________________________________________\n",
      "output (Dense)               (None, 10)                330       \n",
      "=================================================================\n",
      "Total params: 1,748,266\n",
      "Trainable params: 1,748,266\n",
      "Non-trainable params: 0\n",
      "_________________________________________________________________\n"
     ]
    }
   ],
   "source": [
    "\"\"\"Code Here\n",
    "建立你的神經網路\n",
    "\"\"\"\n",
    "def build_mlp(input_shape, output_units=10, num_neurons=[512, 256, 128, 64, 32]):\n",
    "    input_layer = keras.layers.Input(input_shape)\n",
    "    \n",
    "    for i, n_units in enumerate(num_neurons):\n",
    "        if i == 0:\n",
    "            x = keras.layers.Dense(units=n_units, activation=\"relu\", name=\"hidden_layer\"+str(i+1))(input_layer)\n",
    "        else:\n",
    "            x = keras.layers.Dense(units=n_units, activation=\"relu\", name=\"hidden_layer\"+str(i+1))(x)\n",
    "    \n",
    "    out = keras.layers.Dense(units=output_units, activation=\"softmax\", name=\"output\")(x)\n",
    "    \n",
    "    model = keras.models.Model(inputs=[input_layer], outputs=[out])\n",
    "    return model\n",
    "model = build_mlp(input_shape=x_train.shape[1:])\n",
    "model.summary()"
   ]
  },
  {
   "cell_type": "code",
   "execution_count": 6,
   "metadata": {},
   "outputs": [],
   "source": [
    "## 超參數設定\n",
    "LEARNING_RATE = 0.001\n",
    "EPOCHS = 100\n",
    "BATCH_SIZE = 256"
   ]
  },
  {
   "cell_type": "code",
   "execution_count": 7,
   "metadata": {},
   "outputs": [],
   "source": [
    "optimizer = keras.optimizers.Adam(lr=LEARNING_RATE)\n",
    "model.compile(loss=\"categorical_crossentropy\", metrics=[\"accuracy\"], optimizer=optimizer)"
   ]
  },
  {
   "cell_type": "code",
   "execution_count": 8,
   "metadata": {},
   "outputs": [
    {
     "name": "stdout",
     "output_type": "stream",
     "text": [
      "WARNING:tensorflow:From C:\\Users\\wuhe\\Anaconda3\\envs\\tensorflow-gpu\\lib\\site-packages\\tensorflow\\python\\ops\\math_ops.py:3066: to_int32 (from tensorflow.python.ops.math_ops) is deprecated and will be removed in a future version.\n",
      "Instructions for updating:\n",
      "Use tf.cast instead.\n",
      "Train on 50000 samples, validate on 10000 samples\n",
      "Epoch 1/100\n",
      "50000/50000 [==============================] - 12s 249us/step - loss: 1.9933 - acc: 0.2669 - val_loss: 1.8355 - val_acc: 0.3333\n",
      "Epoch 2/100\n",
      "50000/50000 [==============================] - 5s 106us/step - loss: 1.7695 - acc: 0.3597 - val_loss: 1.6892 - val_acc: 0.3825\n",
      "Epoch 3/100\n",
      "50000/50000 [==============================] - 5s 105us/step - loss: 1.6660 - acc: 0.4008 - val_loss: 1.6133 - val_acc: 0.4265\n",
      "Epoch 4/100\n",
      "50000/50000 [==============================] - 5s 108us/step - loss: 1.5900 - acc: 0.4295 - val_loss: 1.5750 - val_acc: 0.4422\n",
      "Epoch 5/100\n",
      "50000/50000 [==============================] - 5s 109us/step - loss: 1.5344 - acc: 0.4490 - val_loss: 1.5629 - val_acc: 0.4335\n",
      "Epoch 6/100\n",
      "50000/50000 [==============================] - 5s 108us/step - loss: 1.4898 - acc: 0.4655 - val_loss: 1.5367 - val_acc: 0.4505\n",
      "Epoch 7/100\n",
      "50000/50000 [==============================] - 5s 106us/step - loss: 1.4570 - acc: 0.4799 - val_loss: 1.4947 - val_acc: 0.4560\n",
      "Epoch 8/100\n",
      "50000/50000 [==============================] - 5s 108us/step - loss: 1.4346 - acc: 0.4858 - val_loss: 1.4619 - val_acc: 0.4747\n",
      "Epoch 9/100\n",
      "50000/50000 [==============================] - 5s 108us/step - loss: 1.4057 - acc: 0.4980 - val_loss: 1.4683 - val_acc: 0.4821\n",
      "Epoch 10/100\n",
      "50000/50000 [==============================] - 5s 109us/step - loss: 1.3757 - acc: 0.5076 - val_loss: 1.4381 - val_acc: 0.4951\n",
      "Epoch 11/100\n",
      "50000/50000 [==============================] - 5s 110us/step - loss: 1.3558 - acc: 0.5139 - val_loss: 1.4205 - val_acc: 0.5000\n",
      "Epoch 12/100\n",
      "50000/50000 [==============================] - 5s 106us/step - loss: 1.3337 - acc: 0.5212 - val_loss: 1.4327 - val_acc: 0.4942\n",
      "Epoch 13/100\n",
      "50000/50000 [==============================] - 5s 103us/step - loss: 1.3138 - acc: 0.5314 - val_loss: 1.4377 - val_acc: 0.4854\n",
      "Epoch 14/100\n",
      "50000/50000 [==============================] - 5s 104us/step - loss: 1.2892 - acc: 0.5386 - val_loss: 1.3880 - val_acc: 0.5077\n",
      "Epoch 15/100\n",
      "50000/50000 [==============================] - 5s 102us/step - loss: 1.2639 - acc: 0.5494 - val_loss: 1.3886 - val_acc: 0.5134\n",
      "Epoch 16/100\n",
      "50000/50000 [==============================] - 5s 107us/step - loss: 1.2450 - acc: 0.5570 - val_loss: 1.3980 - val_acc: 0.5080\n",
      "Epoch 17/100\n",
      "50000/50000 [==============================] - 5s 107us/step - loss: 1.2194 - acc: 0.5634 - val_loss: 1.3859 - val_acc: 0.5146\n",
      "Epoch 18/100\n",
      "50000/50000 [==============================] - 5s 109us/step - loss: 1.1962 - acc: 0.5735 - val_loss: 1.3987 - val_acc: 0.5155\n",
      "Epoch 19/100\n",
      "50000/50000 [==============================] - 5s 109us/step - loss: 1.1793 - acc: 0.5783 - val_loss: 1.3717 - val_acc: 0.5128\n",
      "Epoch 20/100\n",
      "50000/50000 [==============================] - 5s 106us/step - loss: 1.1602 - acc: 0.5865 - val_loss: 1.4162 - val_acc: 0.5097\n",
      "Epoch 21/100\n",
      "50000/50000 [==============================] - 5s 106us/step - loss: 1.1397 - acc: 0.5918 - val_loss: 1.3920 - val_acc: 0.5198\n",
      "Epoch 22/100\n",
      "50000/50000 [==============================] - 5s 106us/step - loss: 1.1321 - acc: 0.5949 - val_loss: 1.3916 - val_acc: 0.5200\n",
      "Epoch 23/100\n",
      "50000/50000 [==============================] - 5s 106us/step - loss: 1.1013 - acc: 0.6067 - val_loss: 1.4538 - val_acc: 0.4970\n",
      "Epoch 24/100\n",
      "50000/50000 [==============================] - 5s 103us/step - loss: 1.0901 - acc: 0.6114 - val_loss: 1.4334 - val_acc: 0.5052\n",
      "Epoch 25/100\n",
      "50000/50000 [==============================] - 5s 105us/step - loss: 1.0734 - acc: 0.6165 - val_loss: 1.4121 - val_acc: 0.5178\n",
      "Epoch 26/100\n",
      "50000/50000 [==============================] - 5s 109us/step - loss: 1.0509 - acc: 0.6243 - val_loss: 1.4317 - val_acc: 0.5177\n",
      "Epoch 27/100\n",
      "50000/50000 [==============================] - 5s 107us/step - loss: 1.0269 - acc: 0.6338 - val_loss: 1.4042 - val_acc: 0.5235\n",
      "Epoch 28/100\n",
      "50000/50000 [==============================] - 5s 107us/step - loss: 1.0107 - acc: 0.6372 - val_loss: 1.4015 - val_acc: 0.5218\n",
      "Epoch 29/100\n",
      "50000/50000 [==============================] - 5s 108us/step - loss: 0.9955 - acc: 0.6443 - val_loss: 1.4774 - val_acc: 0.5109\n",
      "Epoch 30/100\n",
      "50000/50000 [==============================] - 6s 112us/step - loss: 0.9764 - acc: 0.6510 - val_loss: 1.4377 - val_acc: 0.5191\n",
      "Epoch 31/100\n",
      "50000/50000 [==============================] - 5s 107us/step - loss: 0.9657 - acc: 0.6566 - val_loss: 1.4689 - val_acc: 0.5173\n",
      "Epoch 32/100\n",
      "50000/50000 [==============================] - 5s 107us/step - loss: 0.9489 - acc: 0.6612 - val_loss: 1.4893 - val_acc: 0.5150\n",
      "Epoch 33/100\n",
      "50000/50000 [==============================] - 5s 108us/step - loss: 0.9318 - acc: 0.6667 - val_loss: 1.4649 - val_acc: 0.5229\n",
      "Epoch 34/100\n",
      "50000/50000 [==============================] - 6s 112us/step - loss: 0.9148 - acc: 0.6730 - val_loss: 1.4800 - val_acc: 0.5291\n",
      "Epoch 35/100\n",
      "50000/50000 [==============================] - 5s 106us/step - loss: 0.8950 - acc: 0.6821 - val_loss: 1.5120 - val_acc: 0.5221\n",
      "Epoch 36/100\n",
      "50000/50000 [==============================] - 5s 106us/step - loss: 0.8699 - acc: 0.6889 - val_loss: 1.5153 - val_acc: 0.5209\n",
      "Epoch 37/100\n",
      "50000/50000 [==============================] - 5s 106us/step - loss: 0.8777 - acc: 0.6851 - val_loss: 1.5611 - val_acc: 0.5150\n",
      "Epoch 38/100\n",
      "50000/50000 [==============================] - 5s 106us/step - loss: 0.8465 - acc: 0.6976 - val_loss: 1.5693 - val_acc: 0.5143\n",
      "Epoch 39/100\n",
      "50000/50000 [==============================] - 5s 106us/step - loss: 0.8258 - acc: 0.7048 - val_loss: 1.6063 - val_acc: 0.5099\n",
      "Epoch 40/100\n",
      "50000/50000 [==============================] - 5s 107us/step - loss: 0.8264 - acc: 0.7024 - val_loss: 1.5914 - val_acc: 0.5143\n",
      "Epoch 41/100\n",
      "50000/50000 [==============================] - 5s 107us/step - loss: 0.8024 - acc: 0.7139 - val_loss: 1.6288 - val_acc: 0.5124\n",
      "Epoch 42/100\n",
      "50000/50000 [==============================] - 5s 106us/step - loss: 0.7937 - acc: 0.7167 - val_loss: 1.6392 - val_acc: 0.5136\n",
      "Epoch 43/100\n",
      "50000/50000 [==============================] - 5s 109us/step - loss: 0.7775 - acc: 0.7214 - val_loss: 1.6961 - val_acc: 0.5135\n",
      "Epoch 44/100\n",
      "50000/50000 [==============================] - 5s 107us/step - loss: 0.7634 - acc: 0.7268 - val_loss: 1.7158 - val_acc: 0.5130\n",
      "Epoch 45/100\n",
      "50000/50000 [==============================] - 6s 123us/step - loss: 0.7556 - acc: 0.7297 - val_loss: 1.7116 - val_acc: 0.5111\n",
      "Epoch 46/100\n",
      "50000/50000 [==============================] - 6s 111us/step - loss: 0.7364 - acc: 0.7367 - val_loss: 1.7272 - val_acc: 0.5121\n",
      "Epoch 47/100\n",
      "50000/50000 [==============================] - 5s 108us/step - loss: 0.7232 - acc: 0.7402 - val_loss: 1.7971 - val_acc: 0.5045\n",
      "Epoch 48/100\n",
      "50000/50000 [==============================] - 5s 108us/step - loss: 0.7007 - acc: 0.7502 - val_loss: 1.7660 - val_acc: 0.5127\n",
      "Epoch 49/100\n",
      "50000/50000 [==============================] - 6s 111us/step - loss: 0.7015 - acc: 0.7488 - val_loss: 1.8071 - val_acc: 0.5084\n",
      "Epoch 50/100\n",
      "50000/50000 [==============================] - 5s 109us/step - loss: 0.6997 - acc: 0.7480 - val_loss: 1.8503 - val_acc: 0.5079\n",
      "Epoch 51/100\n",
      "50000/50000 [==============================] - 5s 106us/step - loss: 0.6818 - acc: 0.7554 - val_loss: 1.8606 - val_acc: 0.5020\n",
      "Epoch 52/100\n",
      "50000/50000 [==============================] - 5s 109us/step - loss: 0.6779 - acc: 0.7582 - val_loss: 1.8732 - val_acc: 0.5138\n",
      "Epoch 53/100\n",
      "50000/50000 [==============================] - 6s 114us/step - loss: 0.6588 - acc: 0.7630 - val_loss: 1.8684 - val_acc: 0.5046\n",
      "Epoch 54/100\n",
      "50000/50000 [==============================] - 5s 104us/step - loss: 0.6401 - acc: 0.7705 - val_loss: 1.9285 - val_acc: 0.5036\n",
      "Epoch 55/100\n",
      "50000/50000 [==============================] - 5s 102us/step - loss: 0.6348 - acc: 0.7737 - val_loss: 1.9093 - val_acc: 0.5012\n",
      "Epoch 56/100\n",
      "50000/50000 [==============================] - 5s 109us/step - loss: 0.6102 - acc: 0.7819 - val_loss: 1.9693 - val_acc: 0.5026\n",
      "Epoch 57/100\n"
     ]
    },
    {
     "name": "stdout",
     "output_type": "stream",
     "text": [
      "50000/50000 [==============================] - 5s 106us/step - loss: 0.6061 - acc: 0.7820 - val_loss: 1.9742 - val_acc: 0.5038\n",
      "Epoch 58/100\n",
      "50000/50000 [==============================] - 5s 107us/step - loss: 0.6076 - acc: 0.7833 - val_loss: 2.0047 - val_acc: 0.5066\n",
      "Epoch 59/100\n",
      "50000/50000 [==============================] - 5s 106us/step - loss: 0.5969 - acc: 0.7847 - val_loss: 2.0863 - val_acc: 0.4975\n",
      "Epoch 60/100\n",
      "50000/50000 [==============================] - 5s 105us/step - loss: 0.5865 - acc: 0.7898 - val_loss: 2.1598 - val_acc: 0.4918\n",
      "Epoch 61/100\n",
      "50000/50000 [==============================] - 5s 102us/step - loss: 0.5716 - acc: 0.7942 - val_loss: 2.0211 - val_acc: 0.5100\n",
      "Epoch 62/100\n",
      "50000/50000 [==============================] - 5s 106us/step - loss: 0.5575 - acc: 0.8000 - val_loss: 2.1564 - val_acc: 0.4982\n",
      "Epoch 63/100\n",
      "50000/50000 [==============================] - 5s 108us/step - loss: 0.5591 - acc: 0.7986 - val_loss: 2.1119 - val_acc: 0.5069\n",
      "Epoch 64/100\n",
      "50000/50000 [==============================] - 5s 104us/step - loss: 0.5379 - acc: 0.8070 - val_loss: 2.2576 - val_acc: 0.5032\n",
      "Epoch 65/100\n",
      "50000/50000 [==============================] - 5s 102us/step - loss: 0.5372 - acc: 0.8072 - val_loss: 2.1964 - val_acc: 0.4996\n",
      "Epoch 66/100\n",
      "50000/50000 [==============================] - 5s 102us/step - loss: 0.5486 - acc: 0.8008 - val_loss: 2.2204 - val_acc: 0.5017\n",
      "Epoch 67/100\n",
      "50000/50000 [==============================] - 5s 103us/step - loss: 0.5079 - acc: 0.8194 - val_loss: 2.2812 - val_acc: 0.5036\n",
      "Epoch 68/100\n",
      "50000/50000 [==============================] - 5s 107us/step - loss: 0.4978 - acc: 0.8229 - val_loss: 2.3230 - val_acc: 0.4986\n",
      "Epoch 69/100\n",
      "50000/50000 [==============================] - 5s 106us/step - loss: 0.5258 - acc: 0.8101 - val_loss: 2.2864 - val_acc: 0.5010\n",
      "Epoch 70/100\n",
      "50000/50000 [==============================] - 5s 107us/step - loss: 0.5084 - acc: 0.8173 - val_loss: 2.2984 - val_acc: 0.4987\n",
      "Epoch 71/100\n",
      "50000/50000 [==============================] - 5s 101us/step - loss: 0.4851 - acc: 0.8263 - val_loss: 2.3221 - val_acc: 0.5041\n",
      "Epoch 72/100\n",
      "50000/50000 [==============================] - 5s 101us/step - loss: 0.4748 - acc: 0.8292 - val_loss: 2.3543 - val_acc: 0.5023\n",
      "Epoch 73/100\n",
      "50000/50000 [==============================] - 5s 100us/step - loss: 0.4786 - acc: 0.8296 - val_loss: 2.3500 - val_acc: 0.4978\n",
      "Epoch 74/100\n",
      "50000/50000 [==============================] - 5s 100us/step - loss: 0.4766 - acc: 0.8287 - val_loss: 2.3917 - val_acc: 0.4969\n",
      "Epoch 75/100\n",
      "50000/50000 [==============================] - 5s 101us/step - loss: 0.4851 - acc: 0.8268 - val_loss: 2.5050 - val_acc: 0.4932\n",
      "Epoch 76/100\n",
      "50000/50000 [==============================] - 5s 100us/step - loss: 0.4725 - acc: 0.8299 - val_loss: 2.4225 - val_acc: 0.5031\n",
      "Epoch 77/100\n",
      "50000/50000 [==============================] - 5s 100us/step - loss: 0.4501 - acc: 0.8381 - val_loss: 2.4530 - val_acc: 0.5004\n",
      "Epoch 78/100\n",
      "50000/50000 [==============================] - 5s 100us/step - loss: 0.4354 - acc: 0.8438 - val_loss: 2.4980 - val_acc: 0.4941\n",
      "Epoch 79/100\n",
      "50000/50000 [==============================] - 5s 100us/step - loss: 0.4258 - acc: 0.8495 - val_loss: 2.5303 - val_acc: 0.5020\n",
      "Epoch 80/100\n",
      "50000/50000 [==============================] - 5s 100us/step - loss: 0.4298 - acc: 0.8464 - val_loss: 2.5781 - val_acc: 0.4999\n",
      "Epoch 81/100\n",
      "50000/50000 [==============================] - 5s 100us/step - loss: 0.4676 - acc: 0.8313 - val_loss: 2.4820 - val_acc: 0.5004\n",
      "Epoch 82/100\n",
      "50000/50000 [==============================] - 5s 101us/step - loss: 0.4254 - acc: 0.8474 - val_loss: 2.6412 - val_acc: 0.4927\n",
      "Epoch 83/100\n",
      "50000/50000 [==============================] - 5s 100us/step - loss: 0.4144 - acc: 0.8528 - val_loss: 2.6125 - val_acc: 0.5026\n",
      "Epoch 84/100\n",
      "50000/50000 [==============================] - 5s 100us/step - loss: 0.4108 - acc: 0.8520 - val_loss: 2.6381 - val_acc: 0.4909\n",
      "Epoch 85/100\n",
      "50000/50000 [==============================] - 5s 100us/step - loss: 0.4191 - acc: 0.8489 - val_loss: 2.6961 - val_acc: 0.5059\n",
      "Epoch 86/100\n",
      "50000/50000 [==============================] - 5s 100us/step - loss: 0.3923 - acc: 0.8596 - val_loss: 2.7443 - val_acc: 0.4979\n",
      "Epoch 87/100\n",
      "50000/50000 [==============================] - 5s 100us/step - loss: 0.4315 - acc: 0.8458 - val_loss: 2.6487 - val_acc: 0.4870\n",
      "Epoch 88/100\n",
      "50000/50000 [==============================] - 5s 109us/step - loss: 0.4251 - acc: 0.8471 - val_loss: 2.6834 - val_acc: 0.5032\n",
      "Epoch 89/100\n",
      "50000/50000 [==============================] - 5s 108us/step - loss: 0.3808 - acc: 0.8650 - val_loss: 2.8651 - val_acc: 0.4836\n",
      "Epoch 90/100\n",
      "50000/50000 [==============================] - 5s 106us/step - loss: 0.3969 - acc: 0.8598 - val_loss: 2.7265 - val_acc: 0.5035\n",
      "Epoch 91/100\n",
      "50000/50000 [==============================] - 5s 105us/step - loss: 0.3737 - acc: 0.8677 - val_loss: 2.7625 - val_acc: 0.4958\n",
      "Epoch 92/100\n",
      "50000/50000 [==============================] - 5s 106us/step - loss: 0.3708 - acc: 0.8669 - val_loss: 2.8461 - val_acc: 0.4913\n",
      "Epoch 93/100\n",
      "50000/50000 [==============================] - 5s 105us/step - loss: 0.3779 - acc: 0.8631 - val_loss: 2.7826 - val_acc: 0.4970\n",
      "Epoch 94/100\n",
      "50000/50000 [==============================] - 5s 105us/step - loss: 0.3587 - acc: 0.8710 - val_loss: 2.8096 - val_acc: 0.4930\n",
      "Epoch 95/100\n",
      "50000/50000 [==============================] - 5s 104us/step - loss: 0.3618 - acc: 0.8711 - val_loss: 2.8644 - val_acc: 0.4926\n",
      "Epoch 96/100\n",
      "50000/50000 [==============================] - 5s 107us/step - loss: 0.3934 - acc: 0.8574 - val_loss: 2.8212 - val_acc: 0.4973\n",
      "Epoch 97/100\n",
      "50000/50000 [==============================] - 5s 103us/step - loss: 0.3482 - acc: 0.8735 - val_loss: 2.8851 - val_acc: 0.4930\n",
      "Epoch 98/100\n",
      "50000/50000 [==============================] - 5s 105us/step - loss: 0.3430 - acc: 0.8769 - val_loss: 2.9397 - val_acc: 0.4953\n",
      "Epoch 99/100\n",
      "50000/50000 [==============================] - 5s 109us/step - loss: 0.3370 - acc: 0.8805 - val_loss: 2.9360 - val_acc: 0.4911\n",
      "Epoch 100/100\n",
      "50000/50000 [==============================] - 5s 110us/step - loss: 0.3528 - acc: 0.8740 - val_loss: 2.9802 - val_acc: 0.4977\n"
     ]
    },
    {
     "data": {
      "text/plain": [
       "<keras.callbacks.History at 0x1d2de490080>"
      ]
     },
     "execution_count": 8,
     "metadata": {},
     "output_type": "execute_result"
    }
   ],
   "source": [
    "model.fit(x_train, y_train, \n",
    "          epochs=EPOCHS, \n",
    "          batch_size=BATCH_SIZE, \n",
    "          validation_data=(x_test, y_test), \n",
    "          shuffle=True)"
   ]
  },
  {
   "cell_type": "code",
   "execution_count": 10,
   "metadata": {},
   "outputs": [
    {
     "data": {
      "image/png": "[encoded data removed]",
      "text/plain": [
       "<Figure size 432x288 with 1 Axes>"
      ]
     },
     "metadata": {
      "needs_background": "light"
     },
     "output_type": "display_data"
    },
    {
     "data": {
      "image/png": "[encoded data removed]",
      "text/plain": [
       "<Figure size 432x288 with 1 Axes>"
      ]
     },
     "metadata": {
      "needs_background": "light"
     },
     "output_type": "display_data"
    }
   ],
   "source": [
    "import matplotlib.pyplot as plt\n",
    "\n",
    "\n",
    "train_loss = model.history.history[\"loss\"]\n",
    "valid_loss = model.history.history[\"val_loss\"]\n",
    "\n",
    "train_acc = model.history.history[\"acc\"]\n",
    "valid_acc = model.history.history[\"val_acc\"]\n",
    "\n",
    "plt.plot(range(len(train_loss)), train_loss, label=\"train loss\")\n",
    "plt.plot(range(len(valid_loss)), valid_loss, label=\"valid loss\")\n",
    "plt.legend()\n",
    "plt.title(\"Loss\")\n",
    "plt.show()\n",
    "\n",
    "plt.plot(range(len(train_acc)), train_acc, label=\"train accuracy\")\n",
    "plt.plot(range(len(valid_acc)), valid_acc, label=\"valid accuracy\")\n",
    "plt.legend()\n",
    "plt.title(\"Accuracy\")\n",
    "plt.show()"
   ]
  },
  {
   "cell_type": "code",
   "execution_count": null,
   "metadata": {},
   "outputs": [],
   "source": []
  }
 ],
 "metadata": {
  "kernelspec": {
   "display_name": "Python 3",
   "language": "python",
   "name": "python3"
  },
  "language_info": {
   "codemirror_mode": {
    "name": "ipython",
    "version": 3
   },
   "file_extension": ".py",
   "mimetype": "text/x-python",
   "name": "python",
   "nbconvert_exporter": "python",
   "pygments_lexer": "ipython3",
   "version": "3.6.6"
  }
 },
 "nbformat": 4,
 "nbformat_minor": 2
}
