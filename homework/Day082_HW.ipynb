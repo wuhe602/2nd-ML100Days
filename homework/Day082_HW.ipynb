{
 "cells": [
  {
   "cell_type": "markdown",
   "metadata": {},
   "source": [
    "## Work\n",
    "1. 請比較使用不同層數以及不同 Dropout rate 對訓練的效果\n",
    "2. 將 optimizer 改成使用 Adam 並加上適當的 dropout rate 檢視結果"
   ]
  },
  {
   "cell_type": "code",
   "execution_count": 8,
   "metadata": {},
   "outputs": [],
   "source": [
    "import os\n",
    "import keras\n",
    "import itertools\n",
    "from keras.layers import Dropout\n",
    "# Disable GPU\n",
    "os.environ[\"CUDA_VISIBLE_DEVICES\"] = \"0\""
   ]
  },
  {
   "cell_type": "code",
   "execution_count": 9,
   "metadata": {},
   "outputs": [],
   "source": [
    "train, test = keras.datasets.cifar10.load_data()"
   ]
  },
  {
   "cell_type": "code",
   "execution_count": 10,
   "metadata": {},
   "outputs": [],
   "source": [
    "## 資料前處理\n",
    "def preproc_x(x, flatten=True):\n",
    "    x = x / 255.\n",
    "    if flatten:\n",
    "        x = x.reshape((len(x), -1))\n",
    "    return x\n",
    "\n",
    "def preproc_y(y, num_classes=10):\n",
    "    if y.shape[-1] == 1:\n",
    "        y = keras.utils.to_categorical(y, num_classes)\n",
    "    return y    "
   ]
  },
  {
   "cell_type": "code",
   "execution_count": 11,
   "metadata": {},
   "outputs": [],
   "source": [
    "x_train, y_train = train\n",
    "x_test, y_test = test\n",
    "\n",
    "# Preproc the inputs\n",
    "x_train = preproc_x(x_train)\n",
    "x_test = preproc_x(x_test)\n",
    "\n",
    "# Preprc the outputs\n",
    "y_train = preproc_y(y_train)\n",
    "y_test = preproc_y(y_test)"
   ]
  },
  {
   "cell_type": "code",
   "execution_count": 12,
   "metadata": {},
   "outputs": [],
   "source": [
    "\n",
    "def build_mlp(input_shape, output_units=10, num_neurons=[256, 128, 64], drp_ratio=0.2):\n",
    "    input_layer = keras.layers.Input(input_shape)\n",
    "    \n",
    "    for i, n_units in enumerate(num_neurons):\n",
    "        if i == 0:\n",
    "            x = keras.layers.Dense(units=n_units, \n",
    "                                   activation=\"relu\", \n",
    "                                   name=\"hidden_layer\"+str(i+1))(input_layer)\n",
    "            x = Dropout(drp_ratio)(x)\n",
    "        else:\n",
    "            x = keras.layers.Dense(units=n_units, \n",
    "                                   activation=\"relu\", \n",
    "                                   name=\"hidden_layer\"+str(i+1))(x)\n",
    "            x = Dropout(drp_ratio)(x)\n",
    "    \n",
    "    out = keras.layers.Dense(units=output_units, activation=\"softmax\", name=\"output\")(x)\n",
    "    \n",
    "    model = keras.models.Model(inputs=[input_layer], outputs=[out])\n",
    "    return model"
   ]
  },
  {
   "cell_type": "code",
   "execution_count": 13,
   "metadata": {},
   "outputs": [],
   "source": [
    "\"\"\"Code Here\n",
    "設定超參數\n",
    "\"\"\"\n",
    "LEARNING_RATE = 1e-3\n",
    "EPOCHS = 30 # 50\n",
    "BATCH_SIZE = 256\n",
    "MOMENTUM = 0.95\n",
    "Dropout_EXP = 0.25"
   ]
  },
  {
   "cell_type": "code",
   "execution_count": 14,
   "metadata": {
    "scrolled": true
   },
   "outputs": [
    {
     "name": "stdout",
     "output_type": "stream",
     "text": [
      "_________________________________________________________________\n",
      "Layer (type)                 Output Shape              Param #   \n",
      "=================================================================\n",
      "input_2 (InputLayer)         (None, 3072)              0         \n",
      "_________________________________________________________________\n",
      "hidden_layer1 (Dense)        (None, 256)               786688    \n",
      "_________________________________________________________________\n",
      "dropout_1 (Dropout)          (None, 256)               0         \n",
      "_________________________________________________________________\n",
      "hidden_layer2 (Dense)        (None, 128)               32896     \n",
      "_________________________________________________________________\n",
      "dropout_2 (Dropout)          (None, 128)               0         \n",
      "_________________________________________________________________\n",
      "hidden_layer3 (Dense)        (None, 64)                8256      \n",
      "_________________________________________________________________\n",
      "dropout_3 (Dropout)          (None, 64)                0         \n",
      "_________________________________________________________________\n",
      "output (Dense)               (None, 10)                650       \n",
      "=================================================================\n",
      "Total params: 828,490\n",
      "Trainable params: 828,490\n",
      "Non-trainable params: 0\n",
      "_________________________________________________________________\n",
      "WARNING:tensorflow:From C:\\Users\\wuhe\\Anaconda3\\envs\\tensorflow-gpu\\lib\\site-packages\\tensorflow\\python\\ops\\math_ops.py:3066: to_int32 (from tensorflow.python.ops.math_ops) is deprecated and will be removed in a future version.\n",
      "Instructions for updating:\n",
      "Use tf.cast instead.\n",
      "Train on 50000 samples, validate on 10000 samples\n",
      "Epoch 1/30\n",
      "50000/50000 [==============================] - 9s 171us/step - loss: 2.1037 - acc: 0.2096 - val_loss: 1.8634 - val_acc: 0.3250\n",
      "Epoch 2/30\n",
      "50000/50000 [==============================] - 4s 80us/step - loss: 1.9377 - acc: 0.2916 - val_loss: 1.8311 - val_acc: 0.3365\n",
      "Epoch 3/30\n",
      "50000/50000 [==============================] - 4s 81us/step - loss: 1.8837 - acc: 0.3083 - val_loss: 1.7627 - val_acc: 0.3699\n",
      "Epoch 4/30\n",
      "50000/50000 [==============================] - 4s 81us/step - loss: 1.8533 - acc: 0.3248 - val_loss: 1.7432 - val_acc: 0.3764\n",
      "Epoch 5/30\n",
      "50000/50000 [==============================] - 4s 81us/step - loss: 1.8314 - acc: 0.3267 - val_loss: 1.7213 - val_acc: 0.3844\n",
      "Epoch 6/30\n",
      "50000/50000 [==============================] - 4s 80us/step - loss: 1.8052 - acc: 0.3410 - val_loss: 1.7026 - val_acc: 0.3958\n",
      "Epoch 7/30\n",
      "50000/50000 [==============================] - 4s 80us/step - loss: 1.7938 - acc: 0.3446 - val_loss: 1.7024 - val_acc: 0.3924\n",
      "Epoch 8/30\n",
      "50000/50000 [==============================] - 4s 80us/step - loss: 1.7685 - acc: 0.3550 - val_loss: 1.6663 - val_acc: 0.4133\n",
      "Epoch 9/30\n",
      "50000/50000 [==============================] - 4s 80us/step - loss: 1.7531 - acc: 0.3633 - val_loss: 1.6370 - val_acc: 0.4210\n",
      "Epoch 10/30\n",
      "50000/50000 [==============================] - 4s 80us/step - loss: 1.7432 - acc: 0.3656 - val_loss: 1.6581 - val_acc: 0.4109\n",
      "Epoch 11/30\n",
      "50000/50000 [==============================] - 4s 80us/step - loss: 1.7430 - acc: 0.3678 - val_loss: 1.6612 - val_acc: 0.4060\n",
      "Epoch 12/30\n",
      "50000/50000 [==============================] - 4s 80us/step - loss: 1.7302 - acc: 0.3726 - val_loss: 1.6311 - val_acc: 0.4195\n",
      "Epoch 13/30\n",
      "50000/50000 [==============================] - 4s 80us/step - loss: 1.7167 - acc: 0.3756 - val_loss: 1.6121 - val_acc: 0.4327\n",
      "Epoch 14/30\n",
      "50000/50000 [==============================] - 4s 81us/step - loss: 1.7082 - acc: 0.3836 - val_loss: 1.6195 - val_acc: 0.4246\n",
      "Epoch 15/30\n",
      "50000/50000 [==============================] - 4s 80us/step - loss: 1.7068 - acc: 0.3819 - val_loss: 1.6242 - val_acc: 0.4240\n",
      "Epoch 16/30\n",
      "50000/50000 [==============================] - 4s 80us/step - loss: 1.6992 - acc: 0.3851 - val_loss: 1.6152 - val_acc: 0.4275\n",
      "Epoch 17/30\n",
      "50000/50000 [==============================] - 4s 81us/step - loss: 1.6946 - acc: 0.3878 - val_loss: 1.6231 - val_acc: 0.4236\n",
      "Epoch 18/30\n",
      "50000/50000 [==============================] - 4s 81us/step - loss: 1.6917 - acc: 0.3852 - val_loss: 1.6113 - val_acc: 0.4366\n",
      "Epoch 19/30\n",
      "50000/50000 [==============================] - 4s 80us/step - loss: 1.6807 - acc: 0.3890 - val_loss: 1.6087 - val_acc: 0.4284\n",
      "Epoch 20/30\n",
      "50000/50000 [==============================] - 4s 80us/step - loss: 1.6784 - acc: 0.3913 - val_loss: 1.6111 - val_acc: 0.4269\n",
      "Epoch 21/30\n",
      "50000/50000 [==============================] - 4s 80us/step - loss: 1.6751 - acc: 0.3934 - val_loss: 1.5740 - val_acc: 0.4429\n",
      "Epoch 22/30\n",
      "50000/50000 [==============================] - 4s 80us/step - loss: 1.6639 - acc: 0.3978 - val_loss: 1.5732 - val_acc: 0.4454\n",
      "Epoch 23/30\n",
      "50000/50000 [==============================] - 4s 79us/step - loss: 1.6633 - acc: 0.3994 - val_loss: 1.5651 - val_acc: 0.4463\n",
      "Epoch 24/30\n",
      "50000/50000 [==============================] - 4s 80us/step - loss: 1.6620 - acc: 0.3981 - val_loss: 1.5905 - val_acc: 0.4410\n",
      "Epoch 25/30\n",
      "50000/50000 [==============================] - 4s 80us/step - loss: 1.6551 - acc: 0.4010 - val_loss: 1.5904 - val_acc: 0.4355\n",
      "Epoch 26/30\n",
      "50000/50000 [==============================] - 4s 81us/step - loss: 1.6596 - acc: 0.3998 - val_loss: 1.5708 - val_acc: 0.4493\n",
      "Epoch 27/30\n",
      "50000/50000 [==============================] - 4s 79us/step - loss: 1.6430 - acc: 0.4069 - val_loss: 1.5546 - val_acc: 0.4450\n",
      "Epoch 28/30\n",
      "50000/50000 [==============================] - 4s 80us/step - loss: 1.6457 - acc: 0.4023 - val_loss: 1.5757 - val_acc: 0.4411\n",
      "Epoch 29/30\n",
      "50000/50000 [==============================] - 4s 80us/step - loss: 1.6368 - acc: 0.4090 - val_loss: 1.5721 - val_acc: 0.4480\n",
      "Epoch 30/30\n",
      "50000/50000 [==============================] - 4s 80us/step - loss: 1.6350 - acc: 0.4076 - val_loss: 1.5599 - val_acc: 0.4464\n"
     ]
    },
    {
     "data": {
      "text/plain": [
       "<keras.callbacks.History at 0x29126d47dd8>"
      ]
     },
     "execution_count": 14,
     "metadata": {},
     "output_type": "execute_result"
    }
   ],
   "source": [
    "results = {}\n",
    "\"\"\"Code Here\n",
    "撰寫你的訓練流程並將結果用 dictionary 紀錄\n",
    "\"\"\"\n",
    "model = build_mlp(input_shape=x_train.shape[1:], drp_ratio=Dropout_EXP)\n",
    "model.summary()\n",
    "#optimizer = keras.optimizers.SGD(lr=LEARNING_RATE, nesterov=True, momentum=MOMENTUM)\n",
    "optimizer = keras.optimizers.Adam(lr=LEARNING_RATE,)\n",
    "model.compile(loss=\"categorical_crossentropy\", metrics=[\"accuracy\"], optimizer=optimizer)\n",
    "\n",
    "model.fit(x_train, y_train, \n",
    "          epochs=EPOCHS, \n",
    "          batch_size=BATCH_SIZE, \n",
    "          validation_data=(x_test, y_test), \n",
    "          shuffle=True)"
   ]
  },
  {
   "cell_type": "code",
   "execution_count": 18,
   "metadata": {},
   "outputs": [
    {
     "data": {
      "image/png": "[encoded data removed]",
      "text/plain": [
       "<Figure size 432x288 with 1 Axes>"
      ]
     },
     "metadata": {
      "needs_background": "light"
     },
     "output_type": "display_data"
    },
    {
     "data": {
      "image/png": "[encoded data removed]",
      "text/plain": [
       "<Figure size 432x288 with 1 Axes>"
      ]
     },
     "metadata": {
      "needs_background": "light"
     },
     "output_type": "display_data"
    }
   ],
   "source": [
    "train_loss = model.history.history[\"loss\"]\n",
    "valid_loss = model.history.history[\"val_loss\"]\n",
    "train_acc = model.history.history[\"acc\"]\n",
    "valid_acc = model.history.history[\"val_acc\"]\n",
    "import matplotlib.pyplot as plt\n",
    "%matplotlib inline\n",
    "\"\"\"Code Here\n",
    "將結果繪出\n",
    "\"\"\"\n",
    "plt.plot(range(len(train_loss)), train_loss, label=\"train loss\")\n",
    "plt.plot(range(len(valid_loss)), valid_loss, label=\"valid loss\")\n",
    "plt.legend()\n",
    "plt.title(\"Loss\")\n",
    "plt.show()\n",
    "\n",
    "plt.plot(range(len(train_acc)), train_acc, label=\"train accuracy\")\n",
    "plt.plot(range(len(valid_acc)), valid_acc, label=\"valid accuracy\")\n",
    "plt.legend()\n",
    "plt.title(\"Accuracy\")\n",
    "plt.show()"
   ]
  },
  {
   "cell_type": "code",
   "execution_count": null,
   "metadata": {},
   "outputs": [],
   "source": []
  }
 ],
 "metadata": {
  "kernelspec": {
   "display_name": "Python 3",
   "language": "python",
   "name": "python3"
  },
  "language_info": {
   "codemirror_mode": {
    "name": "ipython",
    "version": 3
   },
   "file_extension": ".py",
   "mimetype": "text/x-python",
   "name": "python",
   "nbconvert_exporter": "python",
   "pygments_lexer": "ipython3",
   "version": "3.6.6"
  }
 },
 "nbformat": 4,
 "nbformat_minor": 2
}
