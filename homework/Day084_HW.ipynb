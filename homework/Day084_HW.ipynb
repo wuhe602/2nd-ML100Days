{
 "cells": [
  {
   "cell_type": "markdown",
   "metadata": {},
   "source": [
    "## Work\n",
    "### 請結合前面的知識與程式碼，比較不同的 regularization 的組合對訓練的結果與影響：如 dropout, regularizers, batch-normalization 等"
   ]
  },
  {
   "cell_type": "code",
   "execution_count": 1,
   "metadata": {},
   "outputs": [
    {
     "name": "stderr",
     "output_type": "stream",
     "text": [
      "Using TensorFlow backend.\n"
     ]
    }
   ],
   "source": [
    "import os\n",
    "import keras\n",
    "import itertools\n",
    "# Disable GPU\n",
    "os.environ[\"CUDA_VISIBLE_DEVICES\"] = \"0\"\n",
    "from keras.layers import Dropout\n",
    "from keras.regularizers import l2, l1"
   ]
  },
  {
   "cell_type": "code",
   "execution_count": 2,
   "metadata": {},
   "outputs": [],
   "source": [
    "train, test = keras.datasets.cifar10.load_data()"
   ]
  },
  {
   "cell_type": "code",
   "execution_count": 3,
   "metadata": {},
   "outputs": [],
   "source": [
    "## 資料前處理\n",
    "def preproc_x(x, flatten=True):\n",
    "    x = x / 255.\n",
    "    if flatten:\n",
    "        x = x.reshape((len(x), -1))\n",
    "    return x\n",
    "\n",
    "def preproc_y(y, num_classes=10):\n",
    "    if y.shape[-1] == 1:\n",
    "        y = keras.utils.to_categorical(y, num_classes)\n",
    "    return y    "
   ]
  },
  {
   "cell_type": "code",
   "execution_count": 4,
   "metadata": {},
   "outputs": [],
   "source": [
    "x_train, y_train = train\n",
    "x_test, y_test = test\n",
    "\n",
    "# Preproc the inputs\n",
    "x_train = preproc_x(x_train)\n",
    "x_test = preproc_x(x_test)\n",
    "\n",
    "# Preprc the outputs\n",
    "y_train = preproc_y(y_train)\n",
    "y_test = preproc_y(y_test)"
   ]
  },
  {
   "cell_type": "code",
   "execution_count": 5,
   "metadata": {},
   "outputs": [],
   "source": [
    "def build_mlp(input_shape, output_units=10, num_neurons=[512, 256, 128], drp_ratio=0.2, pattern = l1, regular_ratio=1e-4):\n",
    "    \"\"\"Code Here\n",
    "    建立你的神經網路\n",
    "    \"\"\"\n",
    "    input_layer = keras.layers.Input(input_shape)\n",
    "    \n",
    "    for i, n_units in enumerate(num_neurons):\n",
    "        if i == 0:\n",
    "            x = keras.layers.Dense(units=n_units, \n",
    "                                   activation=\"relu\", \n",
    "                                   name=\"hidden_layer\"+str(i+1),\n",
    "                                   kernel_regularizer=pattern(regular_ratio))(input_layer)\n",
    "        else:\n",
    "            x = keras.layers.Dense(units=n_units, \n",
    "                                   activation=\"relu\", \n",
    "                                   name=\"hidden_layer\"+str(i+1),\n",
    "                                   kernel_regularizer=pattern(regular_ratio))(x)\n",
    "        x = Dropout(drp_ratio)(x)\n",
    "    \n",
    "    out = keras.layers.Dense(units=output_units, activation=\"softmax\", name=\"output\")(x)\n",
    "    \n",
    "    model = keras.models.Model(inputs=[input_layer], outputs=[out])\n",
    "    \n",
    "    return model"
   ]
  },
  {
   "cell_type": "code",
   "execution_count": 6,
   "metadata": {},
   "outputs": [],
   "source": [
    "\"\"\"Code Here\n",
    "設定超參數\n",
    "\"\"\"\n",
    "LEARNING_RATE = 1e-3\n",
    "EPOCHS = 50\n",
    "BATCH_SIZE = 512\n",
    "MOMENTUM = 0.95\n",
    "Dropout_EXP = 0.1\n",
    "EXP = 1e-2\n",
    "PATTERN = l2"
   ]
  },
  {
   "cell_type": "code",
   "execution_count": 7,
   "metadata": {
    "scrolled": true
   },
   "outputs": [
    {
     "name": "stdout",
     "output_type": "stream",
     "text": [
      "WARNING:tensorflow:From C:\\Users\\wuhe\\Anaconda3\\envs\\tensorflow-gpu\\lib\\site-packages\\tensorflow\\python\\framework\\op_def_library.py:263: colocate_with (from tensorflow.python.framework.ops) is deprecated and will be removed in a future version.\n",
      "Instructions for updating:\n",
      "Colocations handled automatically by placer.\n",
      "WARNING:tensorflow:From C:\\Users\\wuhe\\Anaconda3\\envs\\tensorflow-gpu\\lib\\site-packages\\keras\\backend\\tensorflow_backend.py:3445: calling dropout (from tensorflow.python.ops.nn_ops) with keep_prob is deprecated and will be removed in a future version.\n",
      "Instructions for updating:\n",
      "Please use `rate` instead of `keep_prob`. Rate should be set to `rate = 1 - keep_prob`.\n",
      "_________________________________________________________________\n",
      "Layer (type)                 Output Shape              Param #   \n",
      "=================================================================\n",
      "input_1 (InputLayer)         (None, 3072)              0         \n",
      "_________________________________________________________________\n",
      "hidden_layer1 (Dense)        (None, 512)               1573376   \n",
      "_________________________________________________________________\n",
      "dropout_1 (Dropout)          (None, 512)               0         \n",
      "_________________________________________________________________\n",
      "hidden_layer2 (Dense)        (None, 256)               131328    \n",
      "_________________________________________________________________\n",
      "dropout_2 (Dropout)          (None, 256)               0         \n",
      "_________________________________________________________________\n",
      "hidden_layer3 (Dense)        (None, 128)               32896     \n",
      "_________________________________________________________________\n",
      "dropout_3 (Dropout)          (None, 128)               0         \n",
      "_________________________________________________________________\n",
      "output (Dense)               (None, 10)                1290      \n",
      "=================================================================\n",
      "Total params: 1,738,890\n",
      "Trainable params: 1,738,890\n",
      "Non-trainable params: 0\n",
      "_________________________________________________________________\n",
      "WARNING:tensorflow:From C:\\Users\\wuhe\\Anaconda3\\envs\\tensorflow-gpu\\lib\\site-packages\\tensorflow\\python\\ops\\math_ops.py:3066: to_int32 (from tensorflow.python.ops.math_ops) is deprecated and will be removed in a future version.\n",
      "Instructions for updating:\n",
      "Use tf.cast instead.\n",
      "Train on 50000 samples, validate on 10000 samples\n",
      "Epoch 1/50\n",
      "50000/50000 [==============================] - 8s 164us/step - loss: 15.7054 - acc: 0.1896 - val_loss: 15.0504 - val_acc: 0.2771\n",
      "Epoch 2/50\n",
      "50000/50000 [==============================] - 4s 73us/step - loss: 14.5453 - acc: 0.2727 - val_loss: 13.9570 - val_acc: 0.3275\n",
      "Epoch 3/50\n",
      "50000/50000 [==============================] - 4s 74us/step - loss: 13.5173 - acc: 0.3122 - val_loss: 12.9965 - val_acc: 0.3516\n",
      "Epoch 4/50\n",
      "50000/50000 [==============================] - 4s 73us/step - loss: 12.5990 - acc: 0.3304 - val_loss: 12.1207 - val_acc: 0.3646\n",
      "Epoch 5/50\n",
      "50000/50000 [==============================] - 4s 74us/step - loss: 11.7608 - acc: 0.3462 - val_loss: 11.3178 - val_acc: 0.3756\n",
      "Epoch 6/50\n",
      "50000/50000 [==============================] - 4s 74us/step - loss: 10.9902 - acc: 0.3550 - val_loss: 10.5813 - val_acc: 0.3853\n",
      "Epoch 7/50\n",
      "50000/50000 [==============================] - 4s 73us/step - loss: 10.2807 - acc: 0.3663 - val_loss: 9.9033 - val_acc: 0.3926\n",
      "Epoch 8/50\n",
      "50000/50000 [==============================] - 4s 71us/step - loss: 9.6282 - acc: 0.3745 - val_loss: 9.2746 - val_acc: 0.4034\n",
      "Epoch 9/50\n",
      "50000/50000 [==============================] - 4s 71us/step - loss: 9.0251 - acc: 0.3827 - val_loss: 8.6974 - val_acc: 0.4076\n",
      "Epoch 10/50\n",
      "50000/50000 [==============================] - 3s 69us/step - loss: 8.4723 - acc: 0.3824 - val_loss: 8.1683 - val_acc: 0.4093\n",
      "Epoch 11/50\n",
      "50000/50000 [==============================] - 3s 69us/step - loss: 7.9601 - acc: 0.3915 - val_loss: 7.6793 - val_acc: 0.4130\n",
      "Epoch 12/50\n",
      "50000/50000 [==============================] - 3s 69us/step - loss: 7.4889 - acc: 0.3938 - val_loss: 7.2255 - val_acc: 0.4174\n",
      "Epoch 13/50\n",
      "50000/50000 [==============================] - 4s 70us/step - loss: 7.0526 - acc: 0.3998 - val_loss: 6.8070 - val_acc: 0.4169\n",
      "Epoch 14/50\n",
      "50000/50000 [==============================] - 4s 71us/step - loss: 6.6505 - acc: 0.4045 - val_loss: 6.4226 - val_acc: 0.4229\n",
      "Epoch 15/50\n",
      "50000/50000 [==============================] - 3s 70us/step - loss: 6.2783 - acc: 0.4060 - val_loss: 6.0637 - val_acc: 0.4243\n",
      "Epoch 16/50\n",
      "50000/50000 [==============================] - 4s 72us/step - loss: 5.9347 - acc: 0.4087 - val_loss: 5.7360 - val_acc: 0.4263\n",
      "Epoch 17/50\n",
      "50000/50000 [==============================] - 4s 73us/step - loss: 5.6171 - acc: 0.4102 - val_loss: 5.4326 - val_acc: 0.4319\n",
      "Epoch 18/50\n",
      "50000/50000 [==============================] - 4s 82us/step - loss: 5.3246 - acc: 0.4144 - val_loss: 5.1515 - val_acc: 0.4326\n",
      "Epoch 19/50\n",
      "50000/50000 [==============================] - 4s 83us/step - loss: 5.0534 - acc: 0.4157 - val_loss: 4.8943 - val_acc: 0.4350\n",
      "Epoch 20/50\n",
      "50000/50000 [==============================] - 4s 73us/step - loss: 4.8022 - acc: 0.4195 - val_loss: 4.6518 - val_acc: 0.4326\n",
      "Epoch 21/50\n",
      "50000/50000 [==============================] - 4s 73us/step - loss: 4.5705 - acc: 0.4227 - val_loss: 4.4310 - val_acc: 0.4362\n",
      "Epoch 22/50\n",
      "50000/50000 [==============================] - 4s 72us/step - loss: 4.3565 - acc: 0.4235 - val_loss: 4.2246 - val_acc: 0.4391\n",
      "Epoch 23/50\n",
      "50000/50000 [==============================] - 4s 71us/step - loss: 4.1580 - acc: 0.4251 - val_loss: 4.0391 - val_acc: 0.4398\n",
      "Epoch 24/50\n",
      "50000/50000 [==============================] - 4s 71us/step - loss: 3.9761 - acc: 0.4268 - val_loss: 3.8621 - val_acc: 0.4413\n",
      "Epoch 25/50\n",
      "50000/50000 [==============================] - 4s 78us/step - loss: 3.8059 - acc: 0.4302 - val_loss: 3.7021 - val_acc: 0.4410\n",
      "Epoch 26/50\n",
      "50000/50000 [==============================] - 4s 71us/step - loss: 3.6460 - acc: 0.4347 - val_loss: 3.5450 - val_acc: 0.4474\n",
      "Epoch 27/50\n",
      "50000/50000 [==============================] - 4s 71us/step - loss: 3.5033 - acc: 0.4348 - val_loss: 3.4080 - val_acc: 0.4491\n",
      "Epoch 28/50\n",
      "50000/50000 [==============================] - 4s 72us/step - loss: 3.3667 - acc: 0.4376 - val_loss: 3.2791 - val_acc: 0.4469\n",
      "Epoch 29/50\n",
      "50000/50000 [==============================] - 4s 72us/step - loss: 3.2416 - acc: 0.4395 - val_loss: 3.1603 - val_acc: 0.4468\n",
      "Epoch 30/50\n",
      "50000/50000 [==============================] - 4s 71us/step - loss: 3.1279 - acc: 0.4395 - val_loss: 3.0506 - val_acc: 0.4498\n",
      "Epoch 31/50\n",
      "50000/50000 [==============================] - 4s 76us/step - loss: 3.0216 - acc: 0.4419 - val_loss: 2.9493 - val_acc: 0.4512\n",
      "Epoch 32/50\n",
      "50000/50000 [==============================] - 4s 72us/step - loss: 2.9217 - acc: 0.4451 - val_loss: 2.8536 - val_acc: 0.4567\n",
      "Epoch 33/50\n",
      "50000/50000 [==============================] - 4s 76us/step - loss: 2.8324 - acc: 0.4462 - val_loss: 2.7669 - val_acc: 0.4566\n",
      "Epoch 34/50\n",
      "50000/50000 [==============================] - 4s 72us/step - loss: 2.7463 - acc: 0.4442 - val_loss: 2.6896 - val_acc: 0.4513\n",
      "Epoch 35/50\n",
      "50000/50000 [==============================] - 4s 75us/step - loss: 2.6692 - acc: 0.4489 - val_loss: 2.6098 - val_acc: 0.4591\n",
      "Epoch 36/50\n",
      "50000/50000 [==============================] - 4s 71us/step - loss: 2.5950 - acc: 0.4493 - val_loss: 2.5430 - val_acc: 0.4635\n",
      "Epoch 37/50\n",
      "50000/50000 [==============================] - 4s 75us/step - loss: 2.5287 - acc: 0.4509 - val_loss: 2.4784 - val_acc: 0.4605\n",
      "Epoch 38/50\n",
      "50000/50000 [==============================] - 4s 72us/step - loss: 2.4668 - acc: 0.4519 - val_loss: 2.4179 - val_acc: 0.4657\n",
      "Epoch 39/50\n",
      "50000/50000 [==============================] - 4s 73us/step - loss: 2.4098 - acc: 0.4524 - val_loss: 2.3655 - val_acc: 0.4640\n",
      "Epoch 40/50\n",
      "50000/50000 [==============================] - 4s 75us/step - loss: 2.3553 - acc: 0.4551 - val_loss: 2.3151 - val_acc: 0.4657\n",
      "Epoch 41/50\n",
      "50000/50000 [==============================] - 4s 73us/step - loss: 2.3054 - acc: 0.4575 - val_loss: 2.2645 - val_acc: 0.4702\n",
      "Epoch 42/50\n",
      "50000/50000 [==============================] - 4s 77us/step - loss: 2.2610 - acc: 0.4581 - val_loss: 2.2213 - val_acc: 0.4698\n"
     ]
    },
    {
     "name": "stdout",
     "output_type": "stream",
     "text": [
      "Epoch 43/50\n",
      "50000/50000 [==============================] - 4s 71us/step - loss: 2.2179 - acc: 0.4586 - val_loss: 2.1825 - val_acc: 0.4705\n",
      "Epoch 44/50\n",
      "50000/50000 [==============================] - 4s 74us/step - loss: 2.1767 - acc: 0.4608 - val_loss: 2.1484 - val_acc: 0.4689\n",
      "Epoch 45/50\n",
      "50000/50000 [==============================] - 4s 72us/step - loss: 2.1406 - acc: 0.4621 - val_loss: 2.1103 - val_acc: 0.4670\n",
      "Epoch 46/50\n",
      "50000/50000 [==============================] - 4s 71us/step - loss: 2.1056 - acc: 0.4664 - val_loss: 2.0758 - val_acc: 0.4718\n",
      "Epoch 47/50\n",
      "50000/50000 [==============================] - 4s 72us/step - loss: 2.0753 - acc: 0.4625 - val_loss: 2.0495 - val_acc: 0.4742\n",
      "Epoch 48/50\n",
      "50000/50000 [==============================] - 4s 71us/step - loss: 2.0459 - acc: 0.4643 - val_loss: 2.0197 - val_acc: 0.4742\n",
      "Epoch 49/50\n",
      "50000/50000 [==============================] - 4s 72us/step - loss: 2.0174 - acc: 0.4669 - val_loss: 1.9960 - val_acc: 0.4767\n",
      "Epoch 50/50\n",
      "50000/50000 [==============================] - 4s 74us/step - loss: 1.9913 - acc: 0.4664 - val_loss: 1.9739 - val_acc: 0.4746\n"
     ]
    }
   ],
   "source": [
    "results = {}\n",
    "\"\"\"Code Here\n",
    "撰寫你的訓練流程並將結果用 dictionary 紀錄\n",
    "\"\"\"\n",
    "model = build_mlp(input_shape=x_train.shape[1:], drp_ratio=Dropout_EXP, pattern=PATTERN, regular_ratio=EXP)\n",
    "model.summary()\n",
    "optimizer = keras.optimizers.SGD(lr=LEARNING_RATE, nesterov=True, momentum=MOMENTUM)\n",
    "model.compile(loss=\"categorical_crossentropy\", metrics=[\"accuracy\"], optimizer=optimizer)\n",
    "\n",
    "model.fit(x_train, y_train, \n",
    "          epochs=EPOCHS, \n",
    "          batch_size=BATCH_SIZE, \n",
    "          validation_data=(x_test, y_test), \n",
    "          shuffle=True)\n",
    "\n",
    "# Collect results\n",
    "train_loss = model.history.history[\"loss\"]\n",
    "valid_loss = model.history.history[\"val_loss\"]\n",
    "train_acc = model.history.history[\"acc\"]\n",
    "valid_acc = model.history.history[\"val_acc\"]"
   ]
  },
  {
   "cell_type": "code",
   "execution_count": 8,
   "metadata": {},
   "outputs": [
    {
     "data": {
      "image/png": "[encoded data removed]",
      "text/plain": [
       "<Figure size 432x288 with 1 Axes>"
      ]
     },
     "metadata": {
      "needs_background": "light"
     },
     "output_type": "display_data"
    },
    {
     "data": {
      "image/png": "[encoded data removed]",
      "text/plain": [
       "<Figure size 432x288 with 1 Axes>"
      ]
     },
     "metadata": {
      "needs_background": "light"
     },
     "output_type": "display_data"
    }
   ],
   "source": [
    "import matplotlib.pyplot as plt\n",
    "%matplotlib inline\n",
    "\"\"\"Code Here\n",
    "將結果繪出\n",
    "\"\"\"\n",
    "plt.plot(range(len(train_loss)), train_loss, label=\"train loss\")\n",
    "plt.plot(range(len(valid_loss)), valid_loss, label=\"valid loss\")\n",
    "plt.legend()\n",
    "plt.title(\"Loss\")\n",
    "plt.show()\n",
    "\n",
    "plt.plot(range(len(train_acc)), train_acc, label=\"train accuracy\")\n",
    "plt.plot(range(len(valid_acc)), valid_acc, label=\"valid accuracy\")\n",
    "plt.legend()\n",
    "plt.title(\"Accuracy\")\n",
    "plt.show()"
   ]
  },
  {
   "cell_type": "code",
   "execution_count": null,
   "metadata": {},
   "outputs": [],
   "source": []
  }
 ],
 "metadata": {
  "kernelspec": {
   "display_name": "Python 3",
   "language": "python",
   "name": "python3"
  },
  "language_info": {
   "codemirror_mode": {
    "name": "ipython",
    "version": 3
   },
   "file_extension": ".py",
   "mimetype": "text/x-python",
   "name": "python",
   "nbconvert_exporter": "python",
   "pygments_lexer": "ipython3",
   "version": "3.6.6"
  }
 },
 "nbformat": 4,
 "nbformat_minor": 2
}
