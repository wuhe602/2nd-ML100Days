{
 "cells": [
  {
   "cell_type": "markdown",
   "metadata": {},
   "source": [
    "## Work\n",
    "1. 試比較 save_best_only 與否的差異\n",
    "2. 請僅存入將 save_weights_only 設定為 True, 並嘗試 reset ipynb 並將模型與權重重新建回並預測 x_test"
   ]
  },
  {
   "cell_type": "code",
   "execution_count": 1,
   "metadata": {},
   "outputs": [
    {
     "name": "stderr",
     "output_type": "stream",
     "text": [
      "Using TensorFlow backend.\n"
     ]
    }
   ],
   "source": [
    "import os\n",
    "import keras\n",
    "\n",
    "# Disable GPU\n",
    "os.environ[\"CUDA_VISIBLE_DEVICES\"] = \"0\""
   ]
  },
  {
   "cell_type": "code",
   "execution_count": 2,
   "metadata": {},
   "outputs": [],
   "source": [
    "train, test = keras.datasets.cifar10.load_data()"
   ]
  },
  {
   "cell_type": "code",
   "execution_count": 3,
   "metadata": {},
   "outputs": [],
   "source": [
    "## 資料前處理\n",
    "def preproc_x(x, flatten=True):\n",
    "    x = x / 255.\n",
    "    if flatten:\n",
    "        x = x.reshape((len(x), -1))\n",
    "    return x\n",
    "\n",
    "def preproc_y(y, num_classes=10):\n",
    "    if y.shape[-1] == 1:\n",
    "        y = keras.utils.to_categorical(y, num_classes)\n",
    "    return y    "
   ]
  },
  {
   "cell_type": "code",
   "execution_count": 4,
   "metadata": {},
   "outputs": [],
   "source": [
    "x_train, y_train = train\n",
    "x_test, y_test = test\n",
    "\n",
    "# Preproc the inputs\n",
    "x_train = preproc_x(x_train)\n",
    "x_test = preproc_x(x_test)\n",
    "\n",
    "# Preprc the outputs\n",
    "y_train = preproc_y(y_train)\n",
    "y_test = preproc_y(y_test)"
   ]
  },
  {
   "cell_type": "code",
   "execution_count": 5,
   "metadata": {},
   "outputs": [],
   "source": [
    "from keras.layers import BatchNormalization\n",
    "\n",
    "\"\"\"\n",
    "建立神經網路，並加入 BN layer\n",
    "\"\"\"\n",
    "def build_mlp(input_shape, output_units=10, num_neurons=[512, 256, 128]):\n",
    "    input_layer = keras.layers.Input(input_shape)\n",
    "    \n",
    "    for i, n_units in enumerate(num_neurons):\n",
    "        if i == 0:\n",
    "            x = keras.layers.Dense(units=n_units, \n",
    "                                   activation=\"relu\", \n",
    "                                   name=\"hidden_layer\"+str(i+1))(input_layer)\n",
    "            x = BatchNormalization()(x)\n",
    "        else:\n",
    "            x = keras.layers.Dense(units=n_units, \n",
    "                                   activation=\"relu\", \n",
    "                                   name=\"hidden_layer\"+str(i+1))(x)\n",
    "            x = BatchNormalization()(x)\n",
    "    \n",
    "    out = keras.layers.Dense(units=output_units, activation=\"softmax\", name=\"output\")(x)\n",
    "    \n",
    "    model = keras.models.Model(inputs=[input_layer], outputs=[out])\n",
    "    return model"
   ]
  },
  {
   "cell_type": "code",
   "execution_count": 6,
   "metadata": {},
   "outputs": [],
   "source": [
    "\"\"\"Code Here\n",
    "設定超參數\n",
    "\"\"\"\n",
    "LEARNING_RATE = 1e-3\n",
    "EPOCHS = 50\n",
    "BATCH_SIZE = 1024\n",
    "MOMENTUM = 0.95"
   ]
  },
  {
   "cell_type": "code",
   "execution_count": 14,
   "metadata": {},
   "outputs": [],
   "source": [
    "# 載入 Callbacks\n",
    "\"\"\"Code Here\n",
    "設定 callbacks: model checkpoint\n",
    "\"\"\"\n",
    "from keras.callbacks import ModelCheckpoint\n",
    "\n",
    "model_ckpt = ModelCheckpoint(filepath=\"./tmp.h5\", \n",
    "                             monitor=\"val_loss\", \n",
    "                             save_best_only=True)\n",
    "\n"
   ]
  },
  {
   "cell_type": "code",
   "execution_count": 15,
   "metadata": {},
   "outputs": [
    {
     "name": "stdout",
     "output_type": "stream",
     "text": [
      "_________________________________________________________________\n",
      "Layer (type)                 Output Shape              Param #   \n",
      "=================================================================\n",
      "input_3 (InputLayer)         (None, 3072)              0         \n",
      "_________________________________________________________________\n",
      "hidden_layer1 (Dense)        (None, 512)               1573376   \n",
      "_________________________________________________________________\n",
      "batch_normalization_7 (Batch (None, 512)               2048      \n",
      "_________________________________________________________________\n",
      "hidden_layer2 (Dense)        (None, 256)               131328    \n",
      "_________________________________________________________________\n",
      "batch_normalization_8 (Batch (None, 256)               1024      \n",
      "_________________________________________________________________\n",
      "hidden_layer3 (Dense)        (None, 128)               32896     \n",
      "_________________________________________________________________\n",
      "batch_normalization_9 (Batch (None, 128)               512       \n",
      "_________________________________________________________________\n",
      "output (Dense)               (None, 10)                1290      \n",
      "=================================================================\n",
      "Total params: 1,742,474\n",
      "Trainable params: 1,740,682\n",
      "Non-trainable params: 1,792\n",
      "_________________________________________________________________\n",
      "Train on 50000 samples, validate on 10000 samples\n",
      "Epoch 1/50\n",
      "50000/50000 [==============================] - 4s 88us/step - loss: 2.1826 - acc: 0.2805 - val_loss: 2.1285 - val_acc: 0.3170\n",
      "Epoch 2/50\n",
      "50000/50000 [==============================] - 3s 63us/step - loss: 1.7341 - acc: 0.3961 - val_loss: 1.7934 - val_acc: 0.3848\n",
      "Epoch 3/50\n",
      "50000/50000 [==============================] - 3s 63us/step - loss: 1.6060 - acc: 0.4385 - val_loss: 1.6829 - val_acc: 0.4061\n",
      "Epoch 4/50\n",
      "50000/50000 [==============================] - 3s 64us/step - loss: 1.5331 - acc: 0.4630 - val_loss: 1.6355 - val_acc: 0.4248\n",
      "Epoch 5/50\n",
      " 9216/50000 [====>.........................] - ETA: 2s - loss: 1.4786 - acc: 0.4837"
     ]
    },
    {
     "ename": "KeyboardInterrupt",
     "evalue": "",
     "output_type": "error",
     "traceback": [
      "\u001b[1;31m---------------------------------------------------------------------------\u001b[0m",
      "\u001b[1;31mKeyboardInterrupt\u001b[0m                         Traceback (most recent call last)",
      "\u001b[1;32m<ipython-input-15-413ffff97479>\u001b[0m in \u001b[0;36m<module>\u001b[1;34m\u001b[0m\n\u001b[0;32m      9\u001b[0m           \u001b[0mvalidation_data\u001b[0m\u001b[1;33m=\u001b[0m\u001b[1;33m(\u001b[0m\u001b[0mx_test\u001b[0m\u001b[1;33m,\u001b[0m \u001b[0my_test\u001b[0m\u001b[1;33m)\u001b[0m\u001b[1;33m,\u001b[0m\u001b[1;33m\u001b[0m\u001b[0m\n\u001b[0;32m     10\u001b[0m           \u001b[0mshuffle\u001b[0m\u001b[1;33m=\u001b[0m\u001b[1;32mTrue\u001b[0m\u001b[1;33m,\u001b[0m\u001b[1;33m\u001b[0m\u001b[0m\n\u001b[1;32m---> 11\u001b[1;33m           \u001b[0mcallbacks\u001b[0m\u001b[1;33m=\u001b[0m\u001b[1;33m[\u001b[0m\u001b[0mmodel_ckpt\u001b[0m\u001b[1;33m]\u001b[0m\u001b[1;33m\u001b[0m\u001b[0m\n\u001b[0m\u001b[0;32m     12\u001b[0m          )\n\u001b[0;32m     13\u001b[0m \u001b[1;33m\u001b[0m\u001b[0m\n",
      "\u001b[1;32m~\\Anaconda3\\envs\\tensorflow-gpu\\lib\\site-packages\\keras\\engine\\training.py\u001b[0m in \u001b[0;36mfit\u001b[1;34m(self, x, y, batch_size, epochs, verbose, callbacks, validation_split, validation_data, shuffle, class_weight, sample_weight, initial_epoch, steps_per_epoch, validation_steps, **kwargs)\u001b[0m\n\u001b[0;32m   1037\u001b[0m                                         \u001b[0minitial_epoch\u001b[0m\u001b[1;33m=\u001b[0m\u001b[0minitial_epoch\u001b[0m\u001b[1;33m,\u001b[0m\u001b[1;33m\u001b[0m\u001b[0m\n\u001b[0;32m   1038\u001b[0m                                         \u001b[0msteps_per_epoch\u001b[0m\u001b[1;33m=\u001b[0m\u001b[0msteps_per_epoch\u001b[0m\u001b[1;33m,\u001b[0m\u001b[1;33m\u001b[0m\u001b[0m\n\u001b[1;32m-> 1039\u001b[1;33m                                         validation_steps=validation_steps)\n\u001b[0m\u001b[0;32m   1040\u001b[0m \u001b[1;33m\u001b[0m\u001b[0m\n\u001b[0;32m   1041\u001b[0m     def evaluate(self, x=None, y=None,\n",
      "\u001b[1;32m~\\Anaconda3\\envs\\tensorflow-gpu\\lib\\site-packages\\keras\\engine\\training_arrays.py\u001b[0m in \u001b[0;36mfit_loop\u001b[1;34m(model, f, ins, out_labels, batch_size, epochs, verbose, callbacks, val_f, val_ins, shuffle, callback_metrics, initial_epoch, steps_per_epoch, validation_steps)\u001b[0m\n\u001b[0;32m    183\u001b[0m                         \u001b[1;31m# Do not slice the training phase flag.\u001b[0m\u001b[1;33m\u001b[0m\u001b[1;33m\u001b[0m\u001b[0m\n\u001b[0;32m    184\u001b[0m                         ins_batch = slice_arrays(\n\u001b[1;32m--> 185\u001b[1;33m                             ins[:-1], batch_ids) + [ins[-1]]\n\u001b[0m\u001b[0;32m    186\u001b[0m                     \u001b[1;32melse\u001b[0m\u001b[1;33m:\u001b[0m\u001b[1;33m\u001b[0m\u001b[0m\n\u001b[0;32m    187\u001b[0m                         \u001b[0mins_batch\u001b[0m \u001b[1;33m=\u001b[0m \u001b[0mslice_arrays\u001b[0m\u001b[1;33m(\u001b[0m\u001b[0mins\u001b[0m\u001b[1;33m,\u001b[0m \u001b[0mbatch_ids\u001b[0m\u001b[1;33m)\u001b[0m\u001b[1;33m\u001b[0m\u001b[0m\n",
      "\u001b[1;32m~\\Anaconda3\\envs\\tensorflow-gpu\\lib\\site-packages\\keras\\utils\\generic_utils.py\u001b[0m in \u001b[0;36mslice_arrays\u001b[1;34m(arrays, start, stop)\u001b[0m\n\u001b[0;32m    524\u001b[0m             \u001b[1;32mif\u001b[0m \u001b[0mhasattr\u001b[0m\u001b[1;33m(\u001b[0m\u001b[0mstart\u001b[0m\u001b[1;33m,\u001b[0m \u001b[1;34m'shape'\u001b[0m\u001b[1;33m)\u001b[0m\u001b[1;33m:\u001b[0m\u001b[1;33m\u001b[0m\u001b[0m\n\u001b[0;32m    525\u001b[0m                 \u001b[0mstart\u001b[0m \u001b[1;33m=\u001b[0m \u001b[0mstart\u001b[0m\u001b[1;33m.\u001b[0m\u001b[0mtolist\u001b[0m\u001b[1;33m(\u001b[0m\u001b[1;33m)\u001b[0m\u001b[1;33m\u001b[0m\u001b[0m\n\u001b[1;32m--> 526\u001b[1;33m             \u001b[1;32mreturn\u001b[0m \u001b[1;33m[\u001b[0m\u001b[1;32mNone\u001b[0m \u001b[1;32mif\u001b[0m \u001b[0mx\u001b[0m \u001b[1;32mis\u001b[0m \u001b[1;32mNone\u001b[0m \u001b[1;32melse\u001b[0m \u001b[0mx\u001b[0m\u001b[1;33m[\u001b[0m\u001b[0mstart\u001b[0m\u001b[1;33m]\u001b[0m \u001b[1;32mfor\u001b[0m \u001b[0mx\u001b[0m \u001b[1;32min\u001b[0m \u001b[0marrays\u001b[0m\u001b[1;33m]\u001b[0m\u001b[1;33m\u001b[0m\u001b[0m\n\u001b[0m\u001b[0;32m    527\u001b[0m         \u001b[1;32melse\u001b[0m\u001b[1;33m:\u001b[0m\u001b[1;33m\u001b[0m\u001b[0m\n\u001b[0;32m    528\u001b[0m             \u001b[1;32mreturn\u001b[0m \u001b[1;33m[\u001b[0m\u001b[1;32mNone\u001b[0m \u001b[1;32mif\u001b[0m \u001b[0mx\u001b[0m \u001b[1;32mis\u001b[0m \u001b[1;32mNone\u001b[0m \u001b[1;32melse\u001b[0m \u001b[0mx\u001b[0m\u001b[1;33m[\u001b[0m\u001b[0mstart\u001b[0m\u001b[1;33m:\u001b[0m\u001b[0mstop\u001b[0m\u001b[1;33m]\u001b[0m \u001b[1;32mfor\u001b[0m \u001b[0mx\u001b[0m \u001b[1;32min\u001b[0m \u001b[0marrays\u001b[0m\u001b[1;33m]\u001b[0m\u001b[1;33m\u001b[0m\u001b[0m\n",
      "\u001b[1;32m~\\Anaconda3\\envs\\tensorflow-gpu\\lib\\site-packages\\keras\\utils\\generic_utils.py\u001b[0m in \u001b[0;36m<listcomp>\u001b[1;34m(.0)\u001b[0m\n\u001b[0;32m    524\u001b[0m             \u001b[1;32mif\u001b[0m \u001b[0mhasattr\u001b[0m\u001b[1;33m(\u001b[0m\u001b[0mstart\u001b[0m\u001b[1;33m,\u001b[0m \u001b[1;34m'shape'\u001b[0m\u001b[1;33m)\u001b[0m\u001b[1;33m:\u001b[0m\u001b[1;33m\u001b[0m\u001b[0m\n\u001b[0;32m    525\u001b[0m                 \u001b[0mstart\u001b[0m \u001b[1;33m=\u001b[0m \u001b[0mstart\u001b[0m\u001b[1;33m.\u001b[0m\u001b[0mtolist\u001b[0m\u001b[1;33m(\u001b[0m\u001b[1;33m)\u001b[0m\u001b[1;33m\u001b[0m\u001b[0m\n\u001b[1;32m--> 526\u001b[1;33m             \u001b[1;32mreturn\u001b[0m \u001b[1;33m[\u001b[0m\u001b[1;32mNone\u001b[0m \u001b[1;32mif\u001b[0m \u001b[0mx\u001b[0m \u001b[1;32mis\u001b[0m \u001b[1;32mNone\u001b[0m \u001b[1;32melse\u001b[0m \u001b[0mx\u001b[0m\u001b[1;33m[\u001b[0m\u001b[0mstart\u001b[0m\u001b[1;33m]\u001b[0m \u001b[1;32mfor\u001b[0m \u001b[0mx\u001b[0m \u001b[1;32min\u001b[0m \u001b[0marrays\u001b[0m\u001b[1;33m]\u001b[0m\u001b[1;33m\u001b[0m\u001b[0m\n\u001b[0m\u001b[0;32m    527\u001b[0m         \u001b[1;32melse\u001b[0m\u001b[1;33m:\u001b[0m\u001b[1;33m\u001b[0m\u001b[0m\n\u001b[0;32m    528\u001b[0m             \u001b[1;32mreturn\u001b[0m \u001b[1;33m[\u001b[0m\u001b[1;32mNone\u001b[0m \u001b[1;32mif\u001b[0m \u001b[0mx\u001b[0m \u001b[1;32mis\u001b[0m \u001b[1;32mNone\u001b[0m \u001b[1;32melse\u001b[0m \u001b[0mx\u001b[0m\u001b[1;33m[\u001b[0m\u001b[0mstart\u001b[0m\u001b[1;33m:\u001b[0m\u001b[0mstop\u001b[0m\u001b[1;33m]\u001b[0m \u001b[1;32mfor\u001b[0m \u001b[0mx\u001b[0m \u001b[1;32min\u001b[0m \u001b[0marrays\u001b[0m\u001b[1;33m]\u001b[0m\u001b[1;33m\u001b[0m\u001b[0m\n",
      "\u001b[1;31mKeyboardInterrupt\u001b[0m: "
     ]
    }
   ],
   "source": [
    "model = build_mlp(input_shape=x_train.shape[1:])\n",
    "model.summary()\n",
    "optimizer = keras.optimizers.SGD(lr=LEARNING_RATE, nesterov=True, momentum=MOMENTUM)\n",
    "model.compile(loss=\"categorical_crossentropy\", metrics=[\"accuracy\"], optimizer=optimizer)\n",
    "\n",
    "model.fit(x_train, y_train, \n",
    "          epochs=EPOCHS, \n",
    "          batch_size=BATCH_SIZE, \n",
    "          validation_data=(x_test, y_test), \n",
    "          shuffle=True,\n",
    "          callbacks=[model_ckpt]\n",
    "         )\n",
    "\n",
    "# Collect results\n",
    "train_loss = model.history.history[\"loss\"]\n",
    "valid_loss = model.history.history[\"val_loss\"]\n",
    "train_acc = model.history.history[\"acc\"]\n",
    "valid_acc = model.history.history[\"val_acc\"]\n",
    "\n",
    "# Load back\n",
    "model = keras.models.load_model(\"./tmp.h5\")\n",
    "loss_loadback, acc_loadback = model.evaluate(x_test, y_test)"
   ]
  },
  {
   "cell_type": "code",
   "execution_count": 17,
   "metadata": {},
   "outputs": [
    {
     "name": "stdout",
     "output_type": "stream",
     "text": [
      "Train on 50000 samples, validate on 10000 samples\n",
      "Epoch 1/50\n",
      "50000/50000 [==============================] - 4s 82us/step - loss: 1.4763 - acc: 0.4842 - val_loss: 1.5740 - val_acc: 0.4522\n",
      "Epoch 2/50\n",
      "50000/50000 [==============================] - 3s 65us/step - loss: 1.4329 - acc: 0.4993 - val_loss: 1.5599 - val_acc: 0.4527\n",
      "Epoch 3/50\n",
      "50000/50000 [==============================] - 3s 64us/step - loss: 1.3926 - acc: 0.5129 - val_loss: 1.5340 - val_acc: 0.4642\n",
      "Epoch 4/50\n",
      "50000/50000 [==============================] - 3s 64us/step - loss: 1.3584 - acc: 0.5266 - val_loss: 1.5205 - val_acc: 0.4641\n",
      "Epoch 5/50\n",
      "50000/50000 [==============================] - 3s 64us/step - loss: 1.3257 - acc: 0.5390 - val_loss: 1.5162 - val_acc: 0.4698\n",
      "Epoch 6/50\n",
      "50000/50000 [==============================] - 3s 65us/step - loss: 1.2955 - acc: 0.5514 - val_loss: 1.5062 - val_acc: 0.4687\n",
      "Epoch 7/50\n",
      "50000/50000 [==============================] - 3s 63us/step - loss: 1.2659 - acc: 0.5611 - val_loss: 1.4810 - val_acc: 0.4828\n",
      "Epoch 8/50\n",
      "50000/50000 [==============================] - 3s 63us/step - loss: 1.2400 - acc: 0.5716 - val_loss: 1.4777 - val_acc: 0.4801\n",
      "Epoch 9/50\n",
      "50000/50000 [==============================] - 3s 64us/step - loss: 1.2138 - acc: 0.5799 - val_loss: 1.4664 - val_acc: 0.4882\n",
      "Epoch 10/50\n",
      "50000/50000 [==============================] - 3s 63us/step - loss: 1.1876 - acc: 0.5893 - val_loss: 1.4683 - val_acc: 0.4903\n",
      "Epoch 11/50\n",
      "50000/50000 [==============================] - 3s 63us/step - loss: 1.1641 - acc: 0.5989 - val_loss: 1.4610 - val_acc: 0.4885\n",
      "Epoch 12/50\n",
      "50000/50000 [==============================] - 3s 64us/step - loss: 1.1387 - acc: 0.6091 - val_loss: 1.4578 - val_acc: 0.4945\n",
      "Epoch 13/50\n",
      "50000/50000 [==============================] - 3s 64us/step - loss: 1.1167 - acc: 0.6173 - val_loss: 1.4810 - val_acc: 0.4860\n",
      "Epoch 14/50\n",
      "50000/50000 [==============================] - 3s 64us/step - loss: 1.0955 - acc: 0.6254 - val_loss: 1.4527 - val_acc: 0.4964\n",
      "Epoch 15/50\n",
      "50000/50000 [==============================] - 3s 64us/step - loss: 1.0717 - acc: 0.6344 - val_loss: 1.4557 - val_acc: 0.4932\n",
      "Epoch 16/50\n",
      "50000/50000 [==============================] - 3s 64us/step - loss: 1.0487 - acc: 0.6419 - val_loss: 1.4552 - val_acc: 0.4966\n",
      "Epoch 17/50\n",
      "50000/50000 [==============================] - 3s 64us/step - loss: 1.0272 - acc: 0.6496 - val_loss: 1.4526 - val_acc: 0.4993\n",
      "Epoch 18/50\n",
      "50000/50000 [==============================] - 3s 64us/step - loss: 1.0059 - acc: 0.6592 - val_loss: 1.4584 - val_acc: 0.49910031 - ac\n",
      "Epoch 19/50\n",
      "50000/50000 [==============================] - 3s 64us/step - loss: 0.9842 - acc: 0.6692 - val_loss: 1.4543 - val_acc: 0.4989\n",
      "Epoch 20/50\n",
      "50000/50000 [==============================] - 3s 64us/step - loss: 0.9610 - acc: 0.6778 - val_loss: 1.4672 - val_acc: 0.4947\n",
      "Epoch 21/50\n",
      "50000/50000 [==============================] - 3s 63us/step - loss: 0.9413 - acc: 0.6850 - val_loss: 1.4609 - val_acc: 0.4989\n",
      "Epoch 22/50\n",
      "50000/50000 [==============================] - 3s 64us/step - loss: 0.9195 - acc: 0.6946 - val_loss: 1.4581 - val_acc: 0.5050\n",
      "Epoch 23/50\n",
      "50000/50000 [==============================] - 3s 64us/step - loss: 0.9002 - acc: 0.7006 - val_loss: 1.4648 - val_acc: 0.5021\n",
      "Epoch 24/50\n",
      "50000/50000 [==============================] - 3s 64us/step - loss: 0.8811 - acc: 0.7094 - val_loss: 1.4704 - val_acc: 0.5055\n",
      "Epoch 25/50\n",
      "50000/50000 [==============================] - 3s 64us/step - loss: 0.8579 - acc: 0.7176 - val_loss: 1.4763 - val_acc: 0.5020\n",
      "Epoch 26/50\n",
      "50000/50000 [==============================] - 3s 63us/step - loss: 0.8346 - acc: 0.7252 - val_loss: 1.4752 - val_acc: 0.5040\n",
      "Epoch 27/50\n",
      "50000/50000 [==============================] - 3s 64us/step - loss: 0.8162 - acc: 0.7335 - val_loss: 1.5053 - val_acc: 0.4982\n",
      "Epoch 28/50\n",
      "50000/50000 [==============================] - 3s 64us/step - loss: 0.7967 - acc: 0.7419 - val_loss: 1.5070 - val_acc: 0.4992\n",
      "Epoch 29/50\n",
      "50000/50000 [==============================] - 3s 64us/step - loss: 0.7769 - acc: 0.7487 - val_loss: 1.5058 - val_acc: 0.5024\n",
      "Epoch 30/50\n",
      "50000/50000 [==============================] - 3s 64us/step - loss: 0.7565 - acc: 0.7573 - val_loss: 1.5144 - val_acc: 0.4991\n",
      "Epoch 31/50\n",
      "50000/50000 [==============================] - 3s 64us/step - loss: 0.7377 - acc: 0.7649 - val_loss: 1.5215 - val_acc: 0.4989\n",
      "Epoch 32/50\n",
      "50000/50000 [==============================] - 3s 64us/step - loss: 0.7181 - acc: 0.7715 - val_loss: 1.5298 - val_acc: 0.5038\n",
      "Epoch 33/50\n",
      "50000/50000 [==============================] - 3s 64us/step - loss: 0.7007 - acc: 0.7803 - val_loss: 1.5356 - val_acc: 0.5033\n",
      "Epoch 34/50\n",
      "50000/50000 [==============================] - 3s 64us/step - loss: 0.6791 - acc: 0.7880 - val_loss: 1.5440 - val_acc: 0.5030\n",
      "Epoch 35/50\n",
      "50000/50000 [==============================] - 3s 64us/step - loss: 0.6592 - acc: 0.7961 - val_loss: 1.5622 - val_acc: 0.5000\n",
      "Epoch 36/50\n",
      "50000/50000 [==============================] - 3s 65us/step - loss: 0.6417 - acc: 0.8031 - val_loss: 1.5584 - val_acc: 0.5028\n",
      "Epoch 37/50\n",
      "50000/50000 [==============================] - 3s 63us/step - loss: 0.6216 - acc: 0.8121 - val_loss: 1.5807 - val_acc: 0.4971\n",
      "Epoch 38/50\n",
      "50000/50000 [==============================] - 3s 63us/step - loss: 0.6045 - acc: 0.8183 - val_loss: 1.5859 - val_acc: 0.5061\n",
      "Epoch 39/50\n",
      "50000/50000 [==============================] - 3s 64us/step - loss: 0.5864 - acc: 0.8248 - val_loss: 1.5979 - val_acc: 0.4984\n",
      "Epoch 40/50\n",
      "50000/50000 [==============================] - 3s 64us/step - loss: 0.5679 - acc: 0.8317 - val_loss: 1.6149 - val_acc: 0.4991\n",
      "Epoch 41/50\n",
      "50000/50000 [==============================] - 3s 64us/step - loss: 0.5500 - acc: 0.8386 - val_loss: 1.6174 - val_acc: 0.4989\n",
      "Epoch 42/50\n",
      "50000/50000 [==============================] - 3s 63us/step - loss: 0.5324 - acc: 0.8465 - val_loss: 1.6234 - val_acc: 0.5016\n",
      "Epoch 43/50\n",
      "50000/50000 [==============================] - 3s 64us/step - loss: 0.5140 - acc: 0.8545 - val_loss: 1.6726 - val_acc: 0.4921\n",
      "Epoch 44/50\n",
      "50000/50000 [==============================] - 3s 63us/step - loss: 0.4983 - acc: 0.8584 - val_loss: 1.6645 - val_acc: 0.4968\n",
      "Epoch 45/50\n",
      "50000/50000 [==============================] - 3s 64us/step - loss: 0.4809 - acc: 0.8662 - val_loss: 1.6866 - val_acc: 0.4919\n",
      "Epoch 46/50\n",
      "50000/50000 [==============================] - 3s 63us/step - loss: 0.4641 - acc: 0.8727 - val_loss: 1.6785 - val_acc: 0.4941\n",
      "Epoch 47/50\n",
      "50000/50000 [==============================] - 3s 64us/step - loss: 0.4503 - acc: 0.8766 - val_loss: 1.6870 - val_acc: 0.5028\n",
      "Epoch 48/50\n",
      "50000/50000 [==============================] - 3s 64us/step - loss: 0.4332 - acc: 0.8854 - val_loss: 1.7044 - val_acc: 0.4954\n",
      "Epoch 49/50\n",
      "50000/50000 [==============================] - 3s 64us/step - loss: 0.4176 - acc: 0.8909 - val_loss: 1.7263 - val_acc: 0.4986\n",
      "Epoch 50/50\n",
      "50000/50000 [==============================] - 3s 64us/step - loss: 0.4022 - acc: 0.8966 - val_loss: 1.7232 - val_acc: 0.4961\n"
     ]
    }
   ],
   "source": [
    "model = keras.models.load_model(\"./tmp.h5\")\n",
    "model.fit(x_train, y_train, \n",
    "          epochs=EPOCHS, \n",
    "          batch_size=BATCH_SIZE, \n",
    "          validation_data=(x_test, y_test), \n",
    "          shuffle=True,\n",
    "          callbacks=[model_ckpt]\n",
    "         )\n",
    "\n",
    "# Collect results\n",
    "train_loss = model.history.history[\"loss\"]\n",
    "valid_loss = model.history.history[\"val_loss\"]\n",
    "train_acc = model.history.history[\"acc\"]\n",
    "valid_acc = model.history.history[\"val_acc\"]"
   ]
  },
  {
   "cell_type": "code",
   "execution_count": 18,
   "metadata": {
    "scrolled": true
   },
   "outputs": [
    {
     "data": {
      "image/png": "[encoded data removed]",
      "text/plain": [
       "<Figure size 432x288 with 1 Axes>"
      ]
     },
     "metadata": {
      "needs_background": "light"
     },
     "output_type": "display_data"
    },
    {
     "data": {
      "image/png": "[encoded data removed]",
      "text/plain": [
       "<Figure size 432x288 with 1 Axes>"
      ]
     },
     "metadata": {
      "needs_background": "light"
     },
     "output_type": "display_data"
    }
   ],
   "source": [
    "import matplotlib.pyplot as plt\n",
    "%matplotlib inline\n",
    "\"\"\"Code Here\n",
    "將結果繪出\n",
    "\"\"\"\n",
    "plt.plot(range(len(train_loss)), train_loss, label=\"train loss\")\n",
    "plt.plot(range(len(valid_loss)), valid_loss, label=\"valid loss\")\n",
    "plt.hlines(y=loss_loadback, xmin=0, xmax=len(train_loss), colors='r', linestyles='--')\n",
    "plt.legend()\n",
    "plt.title(\"Loss\")\n",
    "plt.show()\n",
    "\n",
    "plt.plot(range(len(train_acc)), train_acc, label=\"train accuracy\")\n",
    "plt.plot(range(len(valid_acc)), valid_acc, label=\"valid accuracy\")\n",
    "plt.hlines(y=acc_loadback, xmin=0, xmax=len(train_loss), colors='r', linestyles='--')\n",
    "plt.legend()\n",
    "plt.title(\"Accuracy\")\n",
    "plt.show()"
   ]
  },
  {
   "cell_type": "code",
   "execution_count": null,
   "metadata": {},
   "outputs": [],
   "source": []
  }
 ],
 "metadata": {
  "kernelspec": {
   "display_name": "Python 3",
   "language": "python",
   "name": "python3"
  },
  "language_info": {
   "codemirror_mode": {
    "name": "ipython",
    "version": 3
   },
   "file_extension": ".py",
   "mimetype": "text/x-python",
   "name": "python",
   "nbconvert_exporter": "python",
   "pygments_lexer": "ipython3",
   "version": "3.6.6"
  }
 },
 "nbformat": 4,
 "nbformat_minor": 2
}
