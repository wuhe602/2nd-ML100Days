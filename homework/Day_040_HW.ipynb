{
 "cells": [
  {
   "cell_type": "markdown",
   "metadata": {},
   "source": [
    "## [作業重點]\n",
    "使用 Sklearn 中的 Lasso, Ridge 模型，來訓練各種資料集，務必了解送進去模型訓練的**資料型態**為何，也請了解模型中各項參數的意義。\n",
    "\n",
    "機器學習的模型非常多種，但要訓練的資料多半有固定的格式，確保你了解訓練資料的格式為何，這樣在應用新模型時，就能夠最快的上手開始訓練！"
   ]
  },
  {
   "cell_type": "markdown",
   "metadata": {},
   "source": [
    "## 練習時間\n",
    "試著使用 sklearn datasets 的其他資料集 (boston, ...)，來訓練自己的線性迴歸模型，並加上適當的正則話來觀察訓練情形。"
   ]
  },
  {
   "cell_type": "code",
   "execution_count": 1,
   "metadata": {},
   "outputs": [],
   "source": [
    "import numpy as np\n",
    "import matplotlib.pyplot as plt\n",
    "from sklearn import datasets, linear_model\n",
    "from sklearn.model_selection import train_test_split\n",
    "from sklearn.metrics import mean_squared_error, r2_score"
   ]
  },
  {
   "cell_type": "code",
   "execution_count": 2,
   "metadata": {},
   "outputs": [
    {
     "name": "stdout",
     "output_type": "stream",
     "text": [
      "[-1.09099883e-01  1.67405249e-02 -2.18753671e-01  4.66803998e-02\n",
      "  3.20692287e-04  1.24491691e-01 -3.26192950e-01 -1.91327414e-01\n",
      "  3.72016066e-02  7.57429505e-02 -1.55979636e-01 -2.85946973e-01\n",
      " -7.51809245e-04]\n",
      "Mean squared error: 0.07\n"
     ]
    }
   ],
   "source": [
    "diabetes = datasets.load_wine()\n",
    "x_train, x_test, y_train, y_test = train_test_split(diabetes.data, diabetes.target, test_size=0.2, random_state=4)\n",
    "regr = linear_model.LinearRegression()\n",
    "regr.fit(x_train, y_train)\n",
    "y_pred = regr.predict(x_test)\n",
    "print(regr.coef_)\n",
    "print(\"Mean squared error: %.2f\" % mean_squared_error(y_test, y_pred))"
   ]
  },
  {
   "cell_type": "markdown",
   "metadata": {},
   "source": [
    "# LASSO"
   ]
  },
  {
   "cell_type": "code",
   "execution_count": 6,
   "metadata": {},
   "outputs": [
    {
     "name": "stdout",
     "output_type": "stream",
     "text": [
      "[-7.36659501e-02  1.35427903e-02 -3.11463370e-02  3.58846929e-02\n",
      "  1.11821515e-04  0.00000000e+00 -2.72943686e-01 -0.00000000e+00\n",
      "  0.00000000e+00  8.31946942e-02 -0.00000000e+00 -2.37874023e-01\n",
      " -8.94890351e-04]\n",
      "Mean squared error: 0.07\n"
     ]
    }
   ],
   "source": [
    "diabetes_la = datasets.load_wine()\n",
    "x_train, x_test, y_train, y_test = train_test_split(diabetes_la.data, diabetes_la.target, test_size=0.2, random_state=4)\n",
    "lasso = linear_model.Lasso(alpha=0.01)\n",
    "lasso.fit(x_train, y_train)\n",
    "y_pred = lasso.predict(x_test)\n",
    "print(lasso.coef_)\n",
    "print(\"Mean squared error: %.2f\"% mean_squared_error(y_test, y_pred))"
   ]
  },
  {
   "cell_type": "markdown",
   "metadata": {},
   "source": [
    "# RIDGE"
   ]
  },
  {
   "cell_type": "code",
   "execution_count": 15,
   "metadata": {},
   "outputs": [
    {
     "name": "stdout",
     "output_type": "stream",
     "text": [
      "[-1.09055901e-01  1.67435834e-02 -2.18649079e-01  4.66645637e-02\n",
      "  3.23024885e-04  1.24181625e-01 -3.25997782e-01 -1.89734429e-01\n",
      "  3.71681807e-02  7.57615981e-02 -1.55792902e-01 -2.85797766e-01\n",
      " -7.51992349e-04]\n",
      "Mean squared error: 0.07\n"
     ]
    }
   ],
   "source": [
    "diabetes_ri = datasets.load_wine()\n",
    "x_train, x_test, y_train, y_test = train_test_split(diabetes_ri.data, diabetes_ri.target, test_size=0.2, random_state=4)\n",
    "ridge = linear_model.Ridge(alpha=0.01)\n",
    "ridge.fit(x_train, y_train)\n",
    "y_pred = regr.predict(x_test)\n",
    "print(ridge.coef_)\n",
    "print(\"Mean squared error: %.2f\"% mean_squared_error(y_test, y_pred))"
   ]
  },
  {
   "cell_type": "code",
   "execution_count": null,
   "metadata": {},
   "outputs": [],
   "source": []
  },
  {
   "cell_type": "code",
   "execution_count": null,
   "metadata": {},
   "outputs": [],
   "source": []
  }
 ],
 "metadata": {
  "kernelspec": {
   "display_name": "Python 3",
   "language": "python",
   "name": "python3"
  },
  "language_info": {
   "codemirror_mode": {
    "name": "ipython",
    "version": 3
   },
   "file_extension": ".py",
   "mimetype": "text/x-python",
   "name": "python",
   "nbconvert_exporter": "python",
   "pygments_lexer": "ipython3",
   "version": "3.7.3"
  }
 },
 "nbformat": 4,
 "nbformat_minor": 2
}
