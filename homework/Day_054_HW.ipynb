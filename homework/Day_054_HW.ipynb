{
 "cells": [
  {
   "cell_type": "markdown",
   "metadata": {},
   "source": [
    "# 作業\n",
    "* 試著想想看, 非監督學習是否有可能使用評價函數 (Metric) 來鑑別好壞呢?  \n",
    "(Hint : 可以分為 \"有目標值\" 與 \"無目標值\" 兩個方向思考)"
   ]
  },
  {
   "cell_type": "markdown",
   "metadata": {
    "collapsed": true
   },
   "source": [
    "在無監督學習中，輸出的結果往往有不同的含義，比如聚類的輸出結果可能是簇(cluster)的編號，而異常檢測的結果可能是一個點是否是異常，以聚類為例，如果假設我們有2個簇，然後要求我們的輸出值是一個[0,1]之間的數，越小越代表其傾向於是簇0，反之則是簇1。異常檢測的話，可以假設存在函數g(x)輸出異常評分，同時假設存在真實的x異常評分再套用上面的框架。可以假設存在函數g(x)輸出異常評分，同時假設存在真實的x異常評分再套用上面的框架。"
   ]
  }
 ],
 "metadata": {
  "kernelspec": {
   "display_name": "Python 2",
   "language": "python",
   "name": "python2"
  },
  "language_info": {
   "codemirror_mode": {
    "name": "ipython",
    "version": 2
   },
   "file_extension": ".py",
   "mimetype": "text/x-python",
   "name": "python",
   "nbconvert_exporter": "python",
   "pygments_lexer": "ipython2",
   "version": "2.7.16"
  }
 },
 "nbformat": 4,
 "nbformat_minor": 1
}
